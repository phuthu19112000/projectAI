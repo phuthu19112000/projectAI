{
 "cells": [
  {
   "cell_type": "markdown",
   "metadata": {},
   "source": [
    "# Xây dựng hệ thống đề xuất phim sử dụng thuật toán Collaborative filtering"
   ]
  },
  {
   "cell_type": "code",
   "execution_count": 17,
   "metadata": {},
   "outputs": [],
   "source": [
    "import os\n",
    "import numpy as np\n",
    "from scipy import optimize\n",
    "from scipy.io import loadmat\n",
    "import utils"
   ]
  },
  {
   "cell_type": "markdown",
   "metadata": {},
   "source": [
    "## Recommender Systems\n",
    "\n",
    "Bài toán này, ta sẽ thực hiện thuật toán Collaborative filtering và áp dụng nó vào bộ dữ liệu xếp hạng phim  Bộ dữ liệu này bao gồm các xếp hạng theo thang điểm từ 1 đến 5. Bộ dữ liệu có $n_u = 943 $ người dùng và $n_m = 1682 $ phim.\n",
    "\n",
    "Chúng ta sẽ đi xây dựng hàm cofiCostFunc để tính toán hàm mục tiêu Collaborative filtering và độ dốc. Sau khi thực hiện hàm chi phí và độ dốc, ta sẽ sử dụng scipy.optizes.minizing để tìm hiểu các parameter.\n",
    "\n",
    "**1 Tập dữ liệu xếp hạng phim**\n",
    "\n",
    "Cell sau sẽ tải tập dữ liệu ex8_movies.mat, cung cấp các biến Y và R. Ma trận Y (a num_movies $\\times$ num_users matrix) lưu trữ các xếp hạng $ y ^ {(i, j)} $ (từ 1 đến 5 ). Ma trận R là ma trận nhị phân, trong đó $ R (i, j) = 1 $ nếu người dùng $ j $ đưa ra xếp hạng cho phim $ i $ và $ R (i, j) = 0 $ nếu không. Mục tiêu của Collaborative filtering là dự đoán xếp hạng phim cho các phim mà người dùng chưa xếp hạng, nghĩa là các mục có $ R (i, j) = 0 $. Điều này sẽ cho phép chúng ta đề xuất những bộ phim có xếp hạng dự đoán cao nhất cho người dùng.\n",
    "\n",
    "Sau đây sẽ tính xếp hạng phim trung bình cho phim đầu tiên (Toy Story) và print xếp hạng trung bình của nó.\n",
    " "
   ]
  },
  {
   "cell_type": "code",
   "execution_count": 25,
   "metadata": {},
   "outputs": [
    {
     "name": "stdout",
     "output_type": "stream",
     "text": [
      "Xếp hạng trung bình cho phim 1 (Toy Story): 4.520679 / 5\n"
     ]
    }
   ],
   "source": [
    "data = loadmat( 'ex8_movies.mat')\n",
    "Y, R = data['Y'], data['R']\n",
    "\n",
    "# Y là ma trận 1682x943, chứa xếp hạng (1-5) của 1682 phim trên 943 người dùng\n",
    "\n",
    "# R là ma trận 1682x943, trong đó R (i, j) = 1 \n",
    "# khi và chỉ khi người dùng j đưa ra xếp hạng cho phim i\n",
    "\n",
    "# Từ ma trận, chúng ta có thể tính toán các thống kê như xếp hạng trung bình.\n",
    "print('Xếp hạng trung bình cho phim 1 (Toy Story): %f / 5' %\n",
    "      np.mean(Y[0, R[0, :]]))"
   ]
  },
  {
   "cell_type": "markdown",
   "metadata": {},
   "source": [
    "Ta cũng sẽ làm việc với các ma trận, X và Theta:\n",
    " \n",
    "![](https://render.githubusercontent.com/render/math?math=%5Ctext%7BX%7D%20%3D%20%0A%5Cbegin%7Bbmatrix%7D%0A-%20%5Cleft%28x%5E%7B%281%29%7D%5Cright%29%5ET%20-%20%5C%5C%0A-%20%5Cleft%28x%5E%7B%282%29%7D%5Cright%29%5ET%20-%20%5C%5C%0A%5Cvdots%20%5C%5C%0A-%20%5Cleft%28x%5E%7B%28n_m%29%7D%5Cright%29%5ET%20-%20%5C%5C%0A%5Cend%7Bbmatrix%7D%2C%20%5Cquad%0A%5Ctext%7BTheta%7D%20%3D%20%0A%5Cbegin%7Bbmatrix%7D%0A-%20%5Cleft%28%5Ctheta%5E%7B%281%29%7D%5Cright%29%5ET%20-%20%5C%5C%0A-%20%5Cleft%28%5Ctheta%5E%7B%282%29%7D%5Cright%29%5ET%20-%20%5C%5C%0A%5Cvdots%20%5C%5C%0A-%20%5Cleft%28%5Ctheta%5E%7B%28n_u%29%7D%5Cright%29%5ET%20-%20%5C%5C%0A%5Cend%7Bbmatrix%7D.&mode=display)\n",
    "\n",
    "$I^{th} $ hàng X tương ứng với vectơ đặc trưng $ x ^ {(i)} $ cho phim $ i ^ {th} $ và hàng $ j ^ {th} $ của Theta tương ứng với một vectơ tham số $ \\theta ^ {(j)} $, cho người dùng $ j ^ {th} $. Cả $ x ^ {(i)} $ và $ \\theta ^ {(j)} $ đều là các vectơ n chiều. Với mục đích của bài này, ta sẽ sử dụng $ n = 100 $ và do đó, $ x ^ {(i)} \\in \\mathbb {R} ^ {100} $ và $ \\theta ^ {(j)} \\in \\mathbb {R} ^ {100} $. Tương ứng, X là ma trận $ n_m \\times 100 $ và Theta là ma trận $ n_u \\times 100 $."
   ]
  },
  {
   "cell_type": "markdown",
   "metadata": {},
   "source": [
    "**2 Thuật toán Collaborative filtering**\n",
    "\n",
    "Hàm cofiCostFunc để tính toán chi phí và độ dốc cho thuật toán."
   ]
  },
  {
   "cell_type": "markdown",
   "metadata": {},
   "source": [
    "**2.1 Hàm chi phí với regularization**\n",
    "\n",
    "Hàm chi phí cho lọc cộng tác với chính quy được đưa ra bởi\n",
    "\n",
    "![](https://render.githubusercontent.com/render/math?math=J%28x%5E%7B%281%29%7D%2C%20%5Cdots%2C%20x%5E%7B%28n_m%29%7D%2C%20%5Ctheta%5E%7B%281%29%7D%2C%20%5Cdots%2C%20%5Ctheta%5E%7B%28n_u%29%7D%29%20%3D%20%5Cfrac%7B1%7D%7B2%7D%20%5Csum_%7B%28i%2Cj%29%3Ar%28i%2Cj%29%3D1%7D%20%5Cleft%28%20%5Cleft%28%20%5Ctheta%5E%7B%28j%29%7D%20%5Cright%29%5ET%20x%5E%7B%28i%29%7D%20-%20y%5E%7B%28i%2Cj%29%7D%20%5Cright%29%5E2%20%2B%20%5Cleft%28%20%5Cfrac%7B%5Clambda%7D%7B2%7D%20%5Csum_%7Bj%3D1%7D%5E%7Bn_u%7D%20%5Csum_%7Bk%3D1%7D%5E%7Bn%7D%20%5Cleft%28%20%5Ctheta_k%5E%7B%28j%29%7D%20%5Cright%29%5E2%20%20%5Cright%29%20%2B%20%5Cleft%28%20%5Cfrac%7B%5Clambda%7D%7B2%7D%20%5Csum_%7Bi%3D1%7D%5E%7Bn_m%7D%20%5Csum_%7Bk%3D1%7D%5En%20%5Cleft%28x_k%5E%7B%28i%29%7D%20%5Cright%29%5E2%20%5Cright%29&mode=display)"
   ]
  },
  {
   "cell_type": "markdown",
   "metadata": {},
   "source": [
    "**2.2 Độ dốc với regularization**\n",
    "\n",
    "Bây giờ ta đã thực hiện hàm chi phí regularization, thực hiện regularization cho gradient. \n",
    "\n",
    "![](https://render.githubusercontent.com/render/math?math=%5Cfrac%7B%5Cpartial%20J%7D%7B%5Cpartial%20x_k%5E%7B%28i%29%7D%7D%20%3D%20%5Csum_%7Bj%3Ar%28i%2Cj%29%3D1%7D%20%5Cleft%28%20%5Cleft%28%5Ctheta%5E%7B%28j%29%7D%5Cright%29%5ET%20x%5E%7B%28i%29%7D%20-%20y%5E%7B%28i%2Cj%29%7D%20%5Cright%29%20%5Ctheta_k%5E%7B%28j%29%7D%20%2B%20%5Clambda%20x_k%5E%7B%28i%29%7D%20%24%24%24%24%20%5Cfrac%7B%5Cpartial%20J%7D%7B%5Cpartial%20%5Ctheta_k%5E%7B%28j%29%7D%7D%20%3D%20%5Csum_%7Bi%3Ar%28i%2Cj%29%3D1%7D%20%5Cleft%28%20%5Cleft%28%5Ctheta%5E%7B%28j%29%7D%5Cright%29%5ET%20x%5E%7B%28i%29%7D-%20y%5E%7B%28i%2Cj%29%7D%20%5Cright%29%20x_k%5E%7B%28j%29%7D%20%2B%20%5Clambda%20%5Ctheta_k%5E%7B%28j%29%7D&mode=display)\n",
    "\n",
    "Điều này có nghĩa là ta chỉ cần thêm $ \\lambda x ^ {(i)} $ vào biến X_grad [i ,:] được mô tả trước đó và thêm $ \\lambda \\theta ^ {(j)} $ vào Theta_grad [j ,:] biến được mô tả trước đó."
   ]
  },
  {
   "cell_type": "code",
   "execution_count": 19,
   "metadata": {},
   "outputs": [],
   "source": [
    "def cofiCostFunc(params, Y, R, num_users, num_movies,\n",
    "                      num_features, lambda_=0.0):\n",
    "    \n",
    "    X = params[:num_movies*num_features].reshape(num_movies, num_features)\n",
    "    Theta = params[num_movies*num_features:].reshape(num_users, num_features)\n",
    "\n",
    "    J = 0\n",
    "    X_grad = np.zeros(X.shape)\n",
    "    Theta_grad = np.zeros(Theta.shape)\n",
    "\n",
    "    J = (1 / 2) * np.sum(np.square((X.dot(Theta.T) - Y) * R)) + (lambda_ / 2) * np.sum(np.square(X)) + \\\n",
    "                                                                (lambda_ / 2) * np.sum(np.square(Theta))\n",
    "    \n",
    "    for i in range(R.shape[0]):\n",
    "        \n",
    "        idx = np.where(R[i, :] == 1)[0]\n",
    "        Theta_temp = Theta[idx, :]\n",
    "        Y_temp = Y[i, idx]\n",
    "        X_grad[i, :] = np.dot(np.dot(X[i, :], Theta_temp.T) - Y_temp, Theta_temp) + lambda_ * X[i, :]\n",
    "        \n",
    "    for j in range(R.shape[1]):\n",
    "        \n",
    "        idx = np.where(R[:, j] == 1)[0]\n",
    "        X_temp = X[idx, :]\n",
    "        Y_temp = Y[idx, j]\n",
    "        Theta_grad[j, :] = np.dot(np.dot(X_temp, Theta[j, :]) - Y_temp, X_temp) + lambda_ * Theta[j, :]\n",
    "             \n",
    "    grad = np.concatenate([X_grad.ravel(), Theta_grad.ravel()])\n",
    "    \n",
    "    return J, grad"
   ]
  },
  {
   "cell_type": "markdown",
   "metadata": {},
   "source": [
    "**3 Đề xuất phim**\n",
    "\n",
    "Sau khi ta hoàn thành việc thực hiện chức năng cofiCostFunc, bây giờ ta có thể bắt đầu đào tạo thuật toán của mình để đưa ra đề xuất phim khi muốn giới thiệu cho người dùng. Trong ô tiếp theo, ta có thể nhập tùy chọn phim của riêng mình, để sau  khi thuật toán chạy, ta có thể nhận các đề xuất phim của riêng mình. Danh sách tất cả các phim và idx của chúng trong tập dữ liệu movie_idx.txt.\n",
    " \n"
   ]
  },
  {
   "cell_type": "code",
   "execution_count": 20,
   "metadata": {},
   "outputs": [],
   "source": [
    "# Trước khi chúng ta đào tạo mô hình, trước tiên chúng ta sẽ thêm \n",
    "# xếp hạng tương ứng với người dùng mới mà chúng ta vừa khảo sát.\n",
    "n_m = 1682\n",
    "\n",
    "#  Initialize my ratings\n",
    "my_ratings = np.zeros(n_m)\n",
    "\n",
    "# Kiểm tra tệp movie_idx.txt để biết id của từng phim trong tập dữ liệu của chúng tôi Ví dụ: \n",
    "# Toy Story (1995) có ID 1, vì vậy ta xếp hạng 4\n",
    "my_ratings[0] = 4\n",
    "\n",
    "# Hoặc giả sử không thích Silence of the Lambs(1991), ta có thể đặt\n",
    "my_ratings[97] = 2\n",
    "\n",
    "# Tôi đã chọn một vài bộ phim thích/không thích và xếp hạng chúng :\n",
    "my_ratings[6] = 3\n",
    "my_ratings[11]= 5\n",
    "my_ratings[53] = 4\n",
    "my_ratings[63] = 5\n",
    "my_ratings[65] = 3\n",
    "my_ratings[68] = 5\n",
    "my_ratings[182] = 4\n",
    "my_ratings[225] = 5\n",
    "my_ratings[354] = 5"
   ]
  },
  {
   "cell_type": "markdown",
   "metadata": {},
   "source": [
    "Sau khi xếp hạng bổ sung đã được thêm vào tập dữ liệu, tập lệnh sẽ tiến hành đào tạo mô hình lọc cộng tác. Điều này sẽ tìm hiểu các tham số X và Theta. Để dự đoán xếp hạng phim i cho người dùng j, bạn cần tính (θ (j)) T x (i). Phần tiếp theo sẽ tính toán xếp hạng cho tất cả các phim và người dùng và hiển thị các phim mà nó đề xuất theo xếp hạng đã được nhập trước đó . Lưu ý rằng ta có thể có được một bộ dự đoán khác nhau do các giá trị khởi tạo ngẫu nhiên khác nhau."
   ]
  },
  {
   "cell_type": "code",
   "execution_count": 28,
   "metadata": {},
   "outputs": [
    {
     "name": "stdout",
     "output_type": "stream",
     "text": [
      "Đã hoàn thành việc học hệ thống đề xuất.\n"
     ]
    }
   ],
   "source": [
    "#  Bây giờ, bạn sẽ đào tạo mô hình lọc cộng tác trên bộ dữ liệu xếp hạng phim gồm 1682 phim và 943 người dùng\n",
    "#  Load data\n",
    "data = loadmat( 'ex8_movies.mat')\n",
    "Y, R = data['Y'], data['R']\n",
    "#  Y là ma trận 1682x943, chứa xếp hạng (1-5) trong số 1682 phim bởi 943 người dùng\n",
    "#  R là ma trận 1682x943, trong đó R (i, j) = 1 khi và chỉ khi người dùng j đánh giá cao phim i\n",
    "\n",
    "#  Thêm xếp hạng của chúng ta vào ma trận dữ liệu\n",
    "Y = np.hstack([my_ratings[:, None], Y])\n",
    "R = np.hstack([(my_ratings > 0)[:, None], R])\n",
    "\n",
    "#  Normalize Ratings\n",
    "Ynorm, Ymean = utils.normalizeRatings(Y, R)\n",
    "\n",
    "num_movies, num_users = Y.shape\n",
    "num_features = 10\n",
    "\n",
    "X = np.random.randn(num_movies, num_features)\n",
    "Theta = np.random.randn(num_users, num_features)\n",
    "\n",
    "initial_parameters = np.concatenate([X.ravel(), Theta.ravel()])\n",
    "\n",
    "# Đặt các tùy chọn cho scipy.optimize.minimize\n",
    "options = {'maxiter': 100}\n",
    "\n",
    "# Set Regularization\n",
    "lambda_ = 10\n",
    "res = optimize.minimize(lambda x: cofiCostFunc(x, Ynorm, R, num_users,\n",
    "                                               num_movies, num_features, lambda_),\n",
    "                        initial_parameters,\n",
    "                        method='TNC',\n",
    "                        jac=True,\n",
    "                        options=options)\n",
    "theta = res.x\n",
    "\n",
    "# Unfold the returned theta back into U and W\n",
    "X = theta[:num_movies*num_features].reshape(num_movies, num_features)\n",
    "Theta = theta[num_movies*num_features:].reshape(num_users, num_features)\n",
    "\n",
    "print('Đã hoàn thành việc học hệ thống đề xuất.')\n",
    "#Sau khi đào tạo mô hình, bây giờ bạn có thể đưa ra các đề xuất bằng cách tính toán ma trận dự đoán."
   ]
  },
  {
   "cell_type": "code",
   "execution_count": 29,
   "metadata": {},
   "outputs": [
    {
     "name": "stdout",
     "output_type": "stream",
     "text": [
      "Các đề xuất hàng đầu cho bạn:\n",
      "----------------------------\n",
      "Dự đoán 5.0 sao, cho phim Someone Else's America (1995)\n",
      "Dự đoán 5.0 sao, cho phim Entertaining Angels: The Dorothy Day Story (1996)\n",
      "Dự đoán 5.0 sao, cho phim Great Day in Harlem, A (1994)\n",
      "Dự đoán 5.0 sao, cho phim Aiqing wansui (1994)\n",
      "Dự đoán 5.0 sao, cho phim They Made Me a Criminal (1939)\n",
      "Dự đoán 5.0 sao, cho phim Marlene Dietrich: Shadow and Light (1996)\n",
      "Dự đoán 5.0 sao, cho phim Star Kid (1997)\n",
      "Dự đoán 5.0 sao, cho phim Santa with Muscles (1996)\n",
      "Dự đoán 5.0 sao, cho phim Prefontaine (1997)\n",
      "Dự đoán 5.0 sao, cho phim Saint of Fort Washington, The (1993)\n",
      "\n",
      "Xếp hạng ban đầu được cung cấp:\n",
      "--------------------------\n",
      "Đã đánh giá 4 sao, cho Toy Story (1995)\n",
      "Đã đánh giá 3 sao, cho Twelve Monkeys (1995)\n",
      "Đã đánh giá 5 sao, cho Usual Suspects, The (1995)\n",
      "Đã đánh giá 4 sao, cho Outbreak (1995)\n",
      "Đã đánh giá 5 sao, cho Shawshank Redemption, The (1994)\n",
      "Đã đánh giá 3 sao, cho While You Were Sleeping (1995)\n",
      "Đã đánh giá 5 sao, cho Forrest Gump (1994)\n",
      "Đã đánh giá 2 sao, cho Silence of the Lambs, The (1991)\n",
      "Đã đánh giá 4 sao, cho Alien (1979)\n",
      "Đã đánh giá 5 sao, cho Die Hard 2 (1990)\n",
      "Đã đánh giá 5 sao, cho Sphere (1998)\n"
     ]
    }
   ],
   "source": [
    "p = np.dot(X, Theta.T)\n",
    "my_predictions = p[:, 0] + Ymean\n",
    "\n",
    "movieList = utils.loadMovieList()\n",
    "\n",
    "ix = np.argsort(my_predictions)[::-1]\n",
    "\n",
    "print('Các đề xuất hàng đầu cho bạn:')\n",
    "print('----------------------------')\n",
    "for i in range(10):\n",
    "    j = ix[i]\n",
    "    print('Dự đoán %.1f sao, cho phim %s' % (my_predictions[j], movieList[j]))\n",
    "\n",
    "print('\\nXếp hạng ban đầu được cung cấp:')\n",
    "print('--------------------------')\n",
    "for i in range(len(my_ratings)):\n",
    "    if my_ratings[i] > 0:\n",
    "        print('Đã đánh giá %d sao, cho %s' % (my_ratings[i], movieList[i]))"
   ]
  },
  {
   "cell_type": "code",
   "execution_count": null,
   "metadata": {},
   "outputs": [],
   "source": []
  }
 ],
 "metadata": {
  "kernelspec": {
   "display_name": "Python 3",
   "language": "python",
   "name": "python3"
  },
  "language_info": {
   "codemirror_mode": {
    "name": "ipython",
    "version": 3
   },
   "file_extension": ".py",
   "mimetype": "text/x-python",
   "name": "python",
   "nbconvert_exporter": "python",
   "pygments_lexer": "ipython3",
   "version": "3.7.6"
  }
 },
 "nbformat": 4,
 "nbformat_minor": 2
}
