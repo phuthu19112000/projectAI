{
 "cells": [
  {
   "cell_type": "markdown",
   "metadata": {},
   "source": [
    "# Dịch văn bản (Vietnamese -> English) với attention model"
   ]
  },
  {
   "cell_type": "markdown",
   "metadata": {},
   "source": [
    "Project này ta sẽ huấn luyện mô hình sequence to sequence (seq2seq) để dịch từ tiếng Việt sang tiếng Anh.\n",
    "\n",
    "Sau khi huấn luyện mô hình , ta sẽ có thể nhập một câu tiếng Việt, chẳng hạn như \"tôi tính đi ra biển chơi nhưng trời lại bắt đầu mưa\", Và hy vọng model sẽ trả lại bản dịch tiếng Anh: \"i was planning on going to the beach today but then it started to rain\".\n",
    "\n",
    "Trước khi bắt đầu ta sẽ import các thư viện cần thiết"
   ]
  },
  {
   "cell_type": "code",
   "execution_count": 1,
   "metadata": {},
   "outputs": [],
   "source": [
    "import pandas as pd\n",
    "import numpy as np\n",
    "import time\n",
    "import os\n",
    "import re\n",
    "from sklearn.model_selection import train_test_split\n",
    "import matplotlib.ticker as ticker\n",
    "import tensorflow as tf\n",
    "from tensorflow import keras\n",
    "from keras.layers import Bidirectional, Concatenate, Permute, Dot, Input, LSTM, Multiply\n",
    "from keras.layers import RepeatVector, Dense, Activation, Lambda, Embedding\n",
    "from keras.optimizers import Adam\n",
    "from keras.utils import to_categorical\n",
    "from keras.models import load_model, Model\n",
    "import keras.backend as K\n",
    "import matplotlib.pyplot as plt\n",
    "%matplotlib inline"
   ]
  },
  {
   "cell_type": "markdown",
   "metadata": {},
   "source": [
    "## Load và tiền xử lý tập dữ liệu\n",
    "\n",
    "Ta sẽ sử dụng tập dữ liệu \"vie.txt\". Tập dữ liệu này chứa các cặp dịch ngôn ngữ ở định dạng:\n",
    "\n",
    "```\n",
    "i was planning on going to the beach today but then it started to rain  tôi tính đi ra biển chơi nhưng trời lại bắt đầu mưa\n",
    "```"
   ]
  },
  {
   "cell_type": "code",
   "execution_count": 2,
   "metadata": {},
   "outputs": [],
   "source": [
    "with open('vie.txt','r',encoding=\"UTF-8\") as f:\n",
    "    data = f.read().split(\"\\n\")"
   ]
  },
  {
   "cell_type": "code",
   "execution_count": 3,
   "metadata": {},
   "outputs": [
    {
     "name": "stdout",
     "output_type": "stream",
     "text": [
      "Tập dữ liệu này bao gồm 4083 cặp Anh-Viêt\n",
      "5 cặp đầu tiên sẽ có dạng: \n",
      "\n"
     ]
    },
    {
     "data": {
      "text/plain": [
       "['Run!\\tChạy!\\tCC-BY 2.0 (France) Attribution: tatoeba.org #906328 (papabear) & #1541945 (Aomori)',\n",
       " 'Help!\\tGiúp tôi với!\\tCC-BY 2.0 (France) Attribution: tatoeba.org #435084 (lukaszpp) & #5489308 (phuc)',\n",
       " 'Hello!\\tChào bạn.\\tCC-BY 2.0 (France) Attribution: tatoeba.org #373330 (CK) & #510482 (tucm)',\n",
       " 'Hurry!\\tNhanh lên nào!\\tCC-BY 2.0 (France) Attribution: tatoeba.org #1182334 (Hideousss) & #5489313 (phuc)',\n",
       " 'Eat it.\\tĂn đi.\\tCC-BY 2.0 (France) Attribution: tatoeba.org #4768107 (garborg) & #8957153 (dotheduyet1999)']"
      ]
     },
     "execution_count": 3,
     "metadata": {},
     "output_type": "execute_result"
    }
   ],
   "source": [
    "print(\"Tập dữ liệu này bao gồm {} cặp Anh-Viêt\".format(len(data)))\n",
    "print(\"5 cặp đầu tiên sẽ có dạng: \\n\")\n",
    "data[:5]"
   ]
  },
  {
   "cell_type": "markdown",
   "metadata": {},
   "source": [
    "Như ta thấy ở trên tập dữ liệu trông rất lộn xộn, ta sẽ phải thực hiện bước làm sạch dữ liệu và đưa nó về định dạng phù hợp với model\n",
    "\n",
    "**Tiền xử lý dữ liệu**\n",
    "\n",
    "1. Thêm mã thông báo \"start\" và \"end\" cho mỗi câu để model biết được khi nào bắt đàu và kết thúc của một câu.\n",
    "2. Làm sạch các câu bằng cách loại bỏ các ký tự đặc biệt.\n",
    "3. Tạo chỉ mục từ và chỉ mục từ đảo ngược (ánh xạ vocab từ word → id và id → word).\n",
    "4. Chèn thêm 0 để mỗi ví dụ có độ dài bằng nhau (độ dài tối đa của mỗi bản dịch)."
   ]
  },
  {
   "cell_type": "code",
   "execution_count": 4,
   "metadata": {},
   "outputs": [],
   "source": [
    "# Chuyển đổi tệp unicode thành ascii\n",
    "def unicode_to_ascii(s):\n",
    "    return ''.join(c for c in unicodedata.normalize('NFD', s) \n",
    "                   if unicodedata.category(c) != 'Mn')\n",
    "\n",
    "def preprocess_sentence(w):\n",
    "    w = w.replace(\".\",\"\")\n",
    "    w = w.replace(\"!\",\" !\")\n",
    "    w = w.replace(\"?\",\" ?\")\n",
    "    w = w.replace(\"-\",\" \")\n",
    "    w = w.replace(\",\",\"\")\n",
    "    w = w.replace(\":\",\" \")\n",
    "    w = w.replace(\"€\",\"\")\n",
    "    w = w.replace(\"'\",\" \")\n",
    "    w = w.lower()\n",
    "    w = re.sub(r'[\" \"]+', \" \", w)\n",
    "    w = '<start> ' + w + ' <end>'\n",
    "    return w"
   ]
  },
  {
   "cell_type": "code",
   "execution_count": 5,
   "metadata": {},
   "outputs": [],
   "source": [
    "# Chia dữ liệu thành list và loại bỏ chỉ số cuối cùng của từng phần tử (Tên tác giả của từng câu)\n",
    "def processing_data(data):\n",
    "    \n",
    "    for i in range(len(data)):\n",
    "        data[i] = data[i].split(\"\\t\")\n",
    "        \n",
    "    for i in range(len(data)):\n",
    "        del(data[i][-1])\n",
    "    \n",
    "    return data"
   ]
  },
  {
   "cell_type": "code",
   "execution_count": 6,
   "metadata": {},
   "outputs": [],
   "source": [
    "data = processing_data(data)"
   ]
  },
  {
   "cell_type": "code",
   "execution_count": 7,
   "metadata": {},
   "outputs": [
    {
     "data": {
      "text/plain": [
       "[['Run!', 'Chạy!'],\n",
       " ['Help!', 'Giúp tôi với!'],\n",
       " ['Hello!', 'Chào bạn.'],\n",
       " ['Hurry!', 'Nhanh lên nào!'],\n",
       " ['Eat it.', 'Ăn đi.']]"
      ]
     },
     "execution_count": 7,
     "metadata": {},
     "output_type": "execute_result"
    }
   ],
   "source": [
    "data[:5]"
   ]
  },
  {
   "cell_type": "code",
   "execution_count": 8,
   "metadata": {},
   "outputs": [],
   "source": [
    "# Áp dụng preprocess_sentence cho từng bản dịch\n",
    "for i in range(len(data)):\n",
    "    data[i][0] = preprocess_sentence(data[i][0])\n",
    "    data[i][1] = preprocess_sentence(data[i][1])"
   ]
  },
  {
   "cell_type": "code",
   "execution_count": 9,
   "metadata": {},
   "outputs": [
    {
     "data": {
      "text/plain": [
       "[['<start> run ! <end>', '<start> chạy ! <end>'],\n",
       " ['<start> help ! <end>', '<start> giúp tôi với ! <end>'],\n",
       " ['<start> hello ! <end>', '<start> chào bạn <end>'],\n",
       " ['<start> hurry ! <end>', '<start> nhanh lên nào ! <end>'],\n",
       " ['<start> eat it <end>', '<start> ăn đi <end>']]"
      ]
     },
     "execution_count": 9,
     "metadata": {},
     "output_type": "execute_result"
    }
   ],
   "source": [
    "data[:5]"
   ]
  },
  {
   "cell_type": "code",
   "execution_count": 10,
   "metadata": {},
   "outputs": [],
   "source": [
    "# Chia tập dữ liệu thành 2 list Tiếng Việt và Tiếng Anh\n",
    "def create_dataset(data):\n",
    "    en = []\n",
    "    vie = []\n",
    "    for i in range(len(data)):\n",
    "        en.append(data[i][0])\n",
    "        vie.append(data[i][1])\n",
    "    \n",
    "    return en,vie"
   ]
  },
  {
   "cell_type": "code",
   "execution_count": 11,
   "metadata": {},
   "outputs": [],
   "source": [
    "en,vie = create_dataset(data)"
   ]
  },
  {
   "cell_type": "code",
   "execution_count": 12,
   "metadata": {},
   "outputs": [],
   "source": [
    "# Tạo chỉ mục từ và chỉ mục từ đảo ngược (ánh xạ vocab từ word → id và id → word).\n",
    "def tokenize(lang):\n",
    "    \n",
    "    lang_tokenizer = tf.keras.preprocessing.text.Tokenizer(\n",
    "      filters='')\n",
    "    \n",
    "    lang_tokenizer.fit_on_texts(lang)\n",
    "    tensor = lang_tokenizer.texts_to_sequences(lang)\n",
    "    tensor = tf.keras.preprocessing.sequence.pad_sequences(tensor,\n",
    "                                                         padding='post')\n",
    "    return tensor, lang_tokenizer"
   ]
  },
  {
   "cell_type": "code",
   "execution_count": 13,
   "metadata": {},
   "outputs": [],
   "source": [
    "# Áp dụng tokenize để tạo vocab cho từng bản dịch\n",
    "def load_dataset(data):\n",
    "  # tạo các cặp đầu vào, đầu ra đã được xử lý\n",
    "    targ_lang, inp_lang = create_dataset(data)\n",
    "    input_tensor, inp_lang_tokenizer = tokenize(inp_lang)\n",
    "    target_tensor, targ_lang_tokenizer = tokenize(targ_lang)\n",
    "    \n",
    "    return input_tensor, target_tensor, inp_lang_tokenizer, targ_lang_tokenizer"
   ]
  },
  {
   "cell_type": "code",
   "execution_count": 14,
   "metadata": {},
   "outputs": [],
   "source": [
    "input_tensor, target_tensor, inp_lang, targ_lang = load_dataset(data)"
   ]
  },
  {
   "cell_type": "code",
   "execution_count": 15,
   "metadata": {},
   "outputs": [
    {
     "data": {
      "text/plain": [
       "array([[  1, 284, 181,   2,   0,   0,   0,   0,   0,   0,   0,   0,   0,\n",
       "          0,   0,   0,   0,   0,   0,   0,   0,   0,   0,   0,   0,   0,\n",
       "          0,   0,   0,   0,   0,   0,   0,   0,   0,   0,   0,   0,   0,\n",
       "          0,   0,   0,   0],\n",
       "       [  1,  92,   3,  31, 181,   2,   0,   0,   0,   0,   0,   0,   0,\n",
       "          0,   0,   0,   0,   0,   0,   0,   0,   0,   0,   0,   0,   0,\n",
       "          0,   0,   0,   0,   0,   0,   0,   0,   0,   0,   0,   0,   0,\n",
       "          0,   0,   0,   0]])"
      ]
     },
     "execution_count": 15,
     "metadata": {},
     "output_type": "execute_result"
    }
   ],
   "source": [
    "input_tensor[:2]"
   ]
  },
  {
   "cell_type": "code",
   "execution_count": 16,
   "metadata": {},
   "outputs": [],
   "source": [
    "# Tính toán max_length của các tensors\n",
    "max_length_targ, max_length_inp = target_tensor.shape[1], input_tensor.shape[1]"
   ]
  },
  {
   "cell_type": "code",
   "execution_count": 17,
   "metadata": {},
   "outputs": [],
   "source": [
    "# Tạo tập training và validation với tỷ lệ 80-20\n",
    "input_tensor_train, input_tensor_val, target_tensor_train, target_tensor_val = train_test_split(input_tensor, \n",
    "                                                                                                target_tensor, test_size=0.2)"
   ]
  },
  {
   "cell_type": "code",
   "execution_count": 18,
   "metadata": {},
   "outputs": [],
   "source": [
    "def convert(lang, tensor):\n",
    "    for t in tensor:\n",
    "        if t!=0:\n",
    "            print (\"%d ----> %s\" % (t, lang.index_word[t]))"
   ]
  },
  {
   "cell_type": "code",
   "execution_count": 19,
   "metadata": {},
   "outputs": [
    {
     "name": "stdout",
     "output_type": "stream",
     "text": [
      "Input Language; ánh xạ từ index -> word\n",
      "1 ----> <start>\n",
      "4 ----> không\n",
      "11 ----> một\n",
      "67 ----> ai\n",
      "6 ----> có\n",
      "19 ----> thể\n",
      "289 ----> thay\n",
      "87 ----> thế\n",
      "5 ----> tom\n",
      "2 ----> <end>\n",
      "\n",
      "Target Language; ánh xạ từ index -> word \n",
      "1 ----> <start>\n",
      "244 ----> nobody\n",
      "26 ----> can\n",
      "1682 ----> replace\n",
      "7 ----> tom\n",
      "2 ----> <end>\n"
     ]
    }
   ],
   "source": [
    "print (\"Input Language; ánh xạ từ index -> word\")\n",
    "convert(inp_lang, input_tensor_train[0])\n",
    "print ()\n",
    "print (\"Target Language; ánh xạ từ index -> word \")\n",
    "convert(targ_lang, target_tensor_train[0])"
   ]
  },
  {
   "cell_type": "markdown",
   "metadata": {},
   "source": [
    "## Load pre- train word embedding vector Tiếng Việt\n",
    "\n",
    "Word Embedding là tên gọi chung của các mô hình ngôn ngữ và các phương pháp học theo đặc trưng trong Xử lý ngôn ngữ tự nhiên(NLP), ở đó các từ hoặc cụm từ được ánh xạ sang các vector số (thường là số thực). Project này ta sẽ sử dụng các embedding vector đã được đào tạo trước để làm đầu vào cho seq2seq model. File pre- train word embedding của Tiếng Việt bao gồm 239942 từ Tiếng Việt đã được xử lý trước và  chắt lọc số lượng vocab phù hợp với tập dữ liệu Việt-Anh tương đối nhỏ, đã được lưu dưới dạng tệp csv, ta có thể load chúng bằng thư viện pandas như sau: "
   ]
  },
  {
   "cell_type": "code",
   "execution_count": 20,
   "metadata": {},
   "outputs": [],
   "source": [
    "embedding_matrix_vie = pd.read_csv(\"embedding_matrix_vie.csv\")"
   ]
  },
  {
   "cell_type": "code",
   "execution_count": 21,
   "metadata": {},
   "outputs": [
    {
     "data": {
      "text/html": [
       "<div>\n",
       "<style scoped>\n",
       "    .dataframe tbody tr th:only-of-type {\n",
       "        vertical-align: middle;\n",
       "    }\n",
       "\n",
       "    .dataframe tbody tr th {\n",
       "        vertical-align: top;\n",
       "    }\n",
       "\n",
       "    .dataframe thead th {\n",
       "        text-align: right;\n",
       "    }\n",
       "</style>\n",
       "<table border=\"1\" class=\"dataframe\">\n",
       "  <thead>\n",
       "    <tr style=\"text-align: right;\">\n",
       "      <th></th>\n",
       "      <th>0</th>\n",
       "      <th>1</th>\n",
       "      <th>2</th>\n",
       "      <th>3</th>\n",
       "      <th>4</th>\n",
       "      <th>5</th>\n",
       "      <th>6</th>\n",
       "      <th>7</th>\n",
       "      <th>8</th>\n",
       "      <th>9</th>\n",
       "      <th>...</th>\n",
       "      <th>2026</th>\n",
       "      <th>2027</th>\n",
       "      <th>2028</th>\n",
       "      <th>2029</th>\n",
       "      <th>2030</th>\n",
       "      <th>2031</th>\n",
       "      <th>2032</th>\n",
       "      <th>2033</th>\n",
       "      <th>2034</th>\n",
       "      <th>2035</th>\n",
       "    </tr>\n",
       "  </thead>\n",
       "  <tbody>\n",
       "    <tr>\n",
       "      <th>0</th>\n",
       "      <td>0.0</td>\n",
       "      <td>0.0</td>\n",
       "      <td>0.0</td>\n",
       "      <td>0.100733</td>\n",
       "      <td>0.171801</td>\n",
       "      <td>0.152586</td>\n",
       "      <td>0.312614</td>\n",
       "      <td>0.141392</td>\n",
       "      <td>0.338726</td>\n",
       "      <td>0.321007</td>\n",
       "      <td>...</td>\n",
       "      <td>0.286808</td>\n",
       "      <td>-0.312332</td>\n",
       "      <td>0.182569</td>\n",
       "      <td>0.203301</td>\n",
       "      <td>-0.130020</td>\n",
       "      <td>0.355839</td>\n",
       "      <td>0.529373</td>\n",
       "      <td>-0.139451</td>\n",
       "      <td>0.033003</td>\n",
       "      <td>0.431680</td>\n",
       "    </tr>\n",
       "    <tr>\n",
       "      <th>1</th>\n",
       "      <td>0.0</td>\n",
       "      <td>0.0</td>\n",
       "      <td>0.0</td>\n",
       "      <td>0.090832</td>\n",
       "      <td>-0.124923</td>\n",
       "      <td>0.061491</td>\n",
       "      <td>-0.149382</td>\n",
       "      <td>0.535875</td>\n",
       "      <td>-0.085935</td>\n",
       "      <td>-0.288156</td>\n",
       "      <td>...</td>\n",
       "      <td>-0.535616</td>\n",
       "      <td>-0.057201</td>\n",
       "      <td>-0.464675</td>\n",
       "      <td>-0.546572</td>\n",
       "      <td>-0.542469</td>\n",
       "      <td>-0.303755</td>\n",
       "      <td>0.681457</td>\n",
       "      <td>-0.185342</td>\n",
       "      <td>-0.161949</td>\n",
       "      <td>-0.198167</td>\n",
       "    </tr>\n",
       "    <tr>\n",
       "      <th>2</th>\n",
       "      <td>0.0</td>\n",
       "      <td>0.0</td>\n",
       "      <td>0.0</td>\n",
       "      <td>0.145823</td>\n",
       "      <td>0.240580</td>\n",
       "      <td>0.251017</td>\n",
       "      <td>0.268091</td>\n",
       "      <td>0.174553</td>\n",
       "      <td>0.457564</td>\n",
       "      <td>0.076719</td>\n",
       "      <td>...</td>\n",
       "      <td>-0.195592</td>\n",
       "      <td>0.404120</td>\n",
       "      <td>0.450092</td>\n",
       "      <td>-0.235653</td>\n",
       "      <td>0.104980</td>\n",
       "      <td>0.267164</td>\n",
       "      <td>0.088382</td>\n",
       "      <td>0.481384</td>\n",
       "      <td>0.347438</td>\n",
       "      <td>0.014284</td>\n",
       "    </tr>\n",
       "    <tr>\n",
       "      <th>3</th>\n",
       "      <td>0.0</td>\n",
       "      <td>0.0</td>\n",
       "      <td>0.0</td>\n",
       "      <td>-0.060470</td>\n",
       "      <td>-0.162495</td>\n",
       "      <td>-0.459134</td>\n",
       "      <td>0.104887</td>\n",
       "      <td>-0.053611</td>\n",
       "      <td>-0.316444</td>\n",
       "      <td>0.055985</td>\n",
       "      <td>...</td>\n",
       "      <td>-0.141380</td>\n",
       "      <td>-0.501409</td>\n",
       "      <td>-0.414706</td>\n",
       "      <td>-0.078203</td>\n",
       "      <td>-0.590878</td>\n",
       "      <td>-0.278719</td>\n",
       "      <td>-0.022797</td>\n",
       "      <td>-0.135089</td>\n",
       "      <td>-0.014747</td>\n",
       "      <td>0.038777</td>\n",
       "    </tr>\n",
       "    <tr>\n",
       "      <th>4</th>\n",
       "      <td>0.0</td>\n",
       "      <td>0.0</td>\n",
       "      <td>0.0</td>\n",
       "      <td>-0.154479</td>\n",
       "      <td>0.099310</td>\n",
       "      <td>-0.242611</td>\n",
       "      <td>0.091065</td>\n",
       "      <td>-0.070223</td>\n",
       "      <td>0.441094</td>\n",
       "      <td>0.015550</td>\n",
       "      <td>...</td>\n",
       "      <td>0.161925</td>\n",
       "      <td>-0.114557</td>\n",
       "      <td>-0.350729</td>\n",
       "      <td>0.080701</td>\n",
       "      <td>-0.119783</td>\n",
       "      <td>-0.699257</td>\n",
       "      <td>0.069161</td>\n",
       "      <td>0.144925</td>\n",
       "      <td>0.191533</td>\n",
       "      <td>0.306251</td>\n",
       "    </tr>\n",
       "    <tr>\n",
       "      <th>...</th>\n",
       "      <td>...</td>\n",
       "      <td>...</td>\n",
       "      <td>...</td>\n",
       "      <td>...</td>\n",
       "      <td>...</td>\n",
       "      <td>...</td>\n",
       "      <td>...</td>\n",
       "      <td>...</td>\n",
       "      <td>...</td>\n",
       "      <td>...</td>\n",
       "      <td>...</td>\n",
       "      <td>...</td>\n",
       "      <td>...</td>\n",
       "      <td>...</td>\n",
       "      <td>...</td>\n",
       "      <td>...</td>\n",
       "      <td>...</td>\n",
       "      <td>...</td>\n",
       "      <td>...</td>\n",
       "      <td>...</td>\n",
       "      <td>...</td>\n",
       "    </tr>\n",
       "    <tr>\n",
       "      <th>95</th>\n",
       "      <td>0.0</td>\n",
       "      <td>0.0</td>\n",
       "      <td>0.0</td>\n",
       "      <td>0.110011</td>\n",
       "      <td>-0.227608</td>\n",
       "      <td>-0.046268</td>\n",
       "      <td>-0.104295</td>\n",
       "      <td>0.097095</td>\n",
       "      <td>-0.153164</td>\n",
       "      <td>-0.098067</td>\n",
       "      <td>...</td>\n",
       "      <td>-0.054788</td>\n",
       "      <td>0.036216</td>\n",
       "      <td>-0.464326</td>\n",
       "      <td>-0.047948</td>\n",
       "      <td>-0.483509</td>\n",
       "      <td>-0.039567</td>\n",
       "      <td>0.164510</td>\n",
       "      <td>0.310035</td>\n",
       "      <td>-0.117017</td>\n",
       "      <td>0.501643</td>\n",
       "    </tr>\n",
       "    <tr>\n",
       "      <th>96</th>\n",
       "      <td>0.0</td>\n",
       "      <td>0.0</td>\n",
       "      <td>0.0</td>\n",
       "      <td>0.388211</td>\n",
       "      <td>-0.187626</td>\n",
       "      <td>-0.585426</td>\n",
       "      <td>0.137010</td>\n",
       "      <td>-0.220033</td>\n",
       "      <td>-0.193290</td>\n",
       "      <td>0.202243</td>\n",
       "      <td>...</td>\n",
       "      <td>0.410102</td>\n",
       "      <td>0.550728</td>\n",
       "      <td>-0.218087</td>\n",
       "      <td>0.370534</td>\n",
       "      <td>-0.081348</td>\n",
       "      <td>-0.186792</td>\n",
       "      <td>1.276851</td>\n",
       "      <td>-0.046835</td>\n",
       "      <td>-0.035982</td>\n",
       "      <td>0.136293</td>\n",
       "    </tr>\n",
       "    <tr>\n",
       "      <th>97</th>\n",
       "      <td>0.0</td>\n",
       "      <td>0.0</td>\n",
       "      <td>0.0</td>\n",
       "      <td>-0.092943</td>\n",
       "      <td>0.008989</td>\n",
       "      <td>0.230481</td>\n",
       "      <td>-0.078718</td>\n",
       "      <td>0.644517</td>\n",
       "      <td>0.294407</td>\n",
       "      <td>0.323928</td>\n",
       "      <td>...</td>\n",
       "      <td>0.441168</td>\n",
       "      <td>0.560294</td>\n",
       "      <td>0.311818</td>\n",
       "      <td>0.332065</td>\n",
       "      <td>-0.206042</td>\n",
       "      <td>-0.273024</td>\n",
       "      <td>-0.199526</td>\n",
       "      <td>0.194646</td>\n",
       "      <td>-0.063882</td>\n",
       "      <td>0.310811</td>\n",
       "    </tr>\n",
       "    <tr>\n",
       "      <th>98</th>\n",
       "      <td>0.0</td>\n",
       "      <td>0.0</td>\n",
       "      <td>0.0</td>\n",
       "      <td>0.105191</td>\n",
       "      <td>0.219645</td>\n",
       "      <td>-0.312734</td>\n",
       "      <td>0.091653</td>\n",
       "      <td>0.124793</td>\n",
       "      <td>0.150152</td>\n",
       "      <td>-0.125779</td>\n",
       "      <td>...</td>\n",
       "      <td>0.287006</td>\n",
       "      <td>-0.288543</td>\n",
       "      <td>0.063431</td>\n",
       "      <td>0.268245</td>\n",
       "      <td>-0.635190</td>\n",
       "      <td>0.373048</td>\n",
       "      <td>0.313638</td>\n",
       "      <td>0.228096</td>\n",
       "      <td>-0.034840</td>\n",
       "      <td>0.834103</td>\n",
       "    </tr>\n",
       "    <tr>\n",
       "      <th>99</th>\n",
       "      <td>0.0</td>\n",
       "      <td>0.0</td>\n",
       "      <td>0.0</td>\n",
       "      <td>-0.189357</td>\n",
       "      <td>-0.215303</td>\n",
       "      <td>-0.296951</td>\n",
       "      <td>-0.144580</td>\n",
       "      <td>0.003319</td>\n",
       "      <td>0.051924</td>\n",
       "      <td>-0.165575</td>\n",
       "      <td>...</td>\n",
       "      <td>0.160112</td>\n",
       "      <td>-0.539705</td>\n",
       "      <td>-0.421031</td>\n",
       "      <td>0.329356</td>\n",
       "      <td>-0.214026</td>\n",
       "      <td>0.572821</td>\n",
       "      <td>-0.249525</td>\n",
       "      <td>0.402729</td>\n",
       "      <td>-0.146736</td>\n",
       "      <td>0.021733</td>\n",
       "    </tr>\n",
       "  </tbody>\n",
       "</table>\n",
       "<p>100 rows × 2036 columns</p>\n",
       "</div>"
      ],
      "text/plain": [
       "      0    1    2         3         4         5         6         7         8  \\\n",
       "0   0.0  0.0  0.0  0.100733  0.171801  0.152586  0.312614  0.141392  0.338726   \n",
       "1   0.0  0.0  0.0  0.090832 -0.124923  0.061491 -0.149382  0.535875 -0.085935   \n",
       "2   0.0  0.0  0.0  0.145823  0.240580  0.251017  0.268091  0.174553  0.457564   \n",
       "3   0.0  0.0  0.0 -0.060470 -0.162495 -0.459134  0.104887 -0.053611 -0.316444   \n",
       "4   0.0  0.0  0.0 -0.154479  0.099310 -0.242611  0.091065 -0.070223  0.441094   \n",
       "..  ...  ...  ...       ...       ...       ...       ...       ...       ...   \n",
       "95  0.0  0.0  0.0  0.110011 -0.227608 -0.046268 -0.104295  0.097095 -0.153164   \n",
       "96  0.0  0.0  0.0  0.388211 -0.187626 -0.585426  0.137010 -0.220033 -0.193290   \n",
       "97  0.0  0.0  0.0 -0.092943  0.008989  0.230481 -0.078718  0.644517  0.294407   \n",
       "98  0.0  0.0  0.0  0.105191  0.219645 -0.312734  0.091653  0.124793  0.150152   \n",
       "99  0.0  0.0  0.0 -0.189357 -0.215303 -0.296951 -0.144580  0.003319  0.051924   \n",
       "\n",
       "           9  ...      2026      2027      2028      2029      2030      2031  \\\n",
       "0   0.321007  ...  0.286808 -0.312332  0.182569  0.203301 -0.130020  0.355839   \n",
       "1  -0.288156  ... -0.535616 -0.057201 -0.464675 -0.546572 -0.542469 -0.303755   \n",
       "2   0.076719  ... -0.195592  0.404120  0.450092 -0.235653  0.104980  0.267164   \n",
       "3   0.055985  ... -0.141380 -0.501409 -0.414706 -0.078203 -0.590878 -0.278719   \n",
       "4   0.015550  ...  0.161925 -0.114557 -0.350729  0.080701 -0.119783 -0.699257   \n",
       "..       ...  ...       ...       ...       ...       ...       ...       ...   \n",
       "95 -0.098067  ... -0.054788  0.036216 -0.464326 -0.047948 -0.483509 -0.039567   \n",
       "96  0.202243  ...  0.410102  0.550728 -0.218087  0.370534 -0.081348 -0.186792   \n",
       "97  0.323928  ...  0.441168  0.560294  0.311818  0.332065 -0.206042 -0.273024   \n",
       "98 -0.125779  ...  0.287006 -0.288543  0.063431  0.268245 -0.635190  0.373048   \n",
       "99 -0.165575  ...  0.160112 -0.539705 -0.421031  0.329356 -0.214026  0.572821   \n",
       "\n",
       "        2032      2033      2034      2035  \n",
       "0   0.529373 -0.139451  0.033003  0.431680  \n",
       "1   0.681457 -0.185342 -0.161949 -0.198167  \n",
       "2   0.088382  0.481384  0.347438  0.014284  \n",
       "3  -0.022797 -0.135089 -0.014747  0.038777  \n",
       "4   0.069161  0.144925  0.191533  0.306251  \n",
       "..       ...       ...       ...       ...  \n",
       "95  0.164510  0.310035 -0.117017  0.501643  \n",
       "96  1.276851 -0.046835 -0.035982  0.136293  \n",
       "97 -0.199526  0.194646 -0.063882  0.310811  \n",
       "98  0.313638  0.228096 -0.034840  0.834103  \n",
       "99 -0.249525  0.402729 -0.146736  0.021733  \n",
       "\n",
       "[100 rows x 2036 columns]"
      ]
     },
     "execution_count": 21,
     "metadata": {},
     "output_type": "execute_result"
    }
   ],
   "source": [
    "embedding_matrix_vie"
   ]
  },
  {
   "cell_type": "code",
   "execution_count": 22,
   "metadata": {},
   "outputs": [],
   "source": [
    "embedding_matrix_vie = embedding_matrix_vie.T.values"
   ]
  },
  {
   "cell_type": "code",
   "execution_count": 23,
   "metadata": {},
   "outputs": [
    {
     "data": {
      "text/plain": [
       "(2036, 100)"
      ]
     },
     "execution_count": 23,
     "metadata": {},
     "output_type": "execute_result"
    }
   ],
   "source": [
    "embedding_matrix_vie.shape"
   ]
  },
  {
   "cell_type": "markdown",
   "metadata": {},
   "source": [
    "## Tạo một tf.data dataset"
   ]
  },
  {
   "cell_type": "code",
   "execution_count": 24,
   "metadata": {},
   "outputs": [],
   "source": [
    "BUFFER_SIZE = len(input_tensor_train)\n",
    "BATCH_SIZE = 64\n",
    "steps_per_epoch = len(input_tensor_train)//BATCH_SIZE\n",
    "embedding_dim = 100\n",
    "units = 1024\n",
    "vocab_inp_size = len(inp_lang.word_index)+1\n",
    "vocab_tar_size = len(targ_lang.word_index)+1\n",
    "\n",
    "dataset = tf.data.Dataset.from_tensor_slices((input_tensor_train, target_tensor_train)).shuffle(BUFFER_SIZE)\n",
    "dataset = dataset.batch(BATCH_SIZE, drop_remainder=True)"
   ]
  },
  {
   "cell_type": "code",
   "execution_count": 25,
   "metadata": {},
   "outputs": [
    {
     "data": {
      "text/plain": [
       "(TensorShape([64, 43]), TensorShape([64, 36]))"
      ]
     },
     "execution_count": 25,
     "metadata": {},
     "output_type": "execute_result"
    }
   ],
   "source": [
    "example_input_batch, example_target_batch = next(iter(dataset))\n",
    "example_input_batch.shape, example_target_batch.shape"
   ]
  },
  {
   "cell_type": "markdown",
   "metadata": {},
   "source": [
    "## Thiết lập bộ encoder và decoder của model\n",
    "\n",
    "Triển khai mô hình bộ mã hóa-giải mã có attention, tất cả các phương trình attention giống với \"dự án dịch ngày tháng\".Sơ đồ sau đây cho thấy mỗi từ đầu vào được chỉ định với một trọng số bởi cơ chế attention, sau đó được bộ giải mã sử dụng nó để dự đoán từ tiếp theo trong câu. Hình ảnh và công thức dưới đây là một ví dụ về cơ chế attention tham khảo từ [paper](https://arxiv.org/abs/1508.04025v5).\n",
    "\n",
    "Đầu vào được đưa qua bộ mã hóa và cung cấp cho chúng ta đầu ra có shape (batch_size, max_length, hidden_size) và trạng thái ẩn của bộ mã hóa có shape (batch_size, hidden_size).\n",
    "\n",
    "![](attention_mechanism.jpg)"
   ]
  },
  {
   "cell_type": "code",
   "execution_count": 26,
   "metadata": {},
   "outputs": [],
   "source": [
    "class Encoder(tf.keras.Model):\n",
    "    \n",
    "    def __init__(self, vocab_size, embedding_dim, enc_units, batch_sz):\n",
    "        \n",
    "        super(Encoder, self).__init__()\n",
    "        self.batch_sz = batch_sz\n",
    "        self.enc_units = enc_units\n",
    "        \n",
    "        self.embedding = Embedding(vocab_size,embedding_dim,\n",
    "                               embeddings_initializer=keras.initializers.Constant(embedding_matrix_vie), \n",
    "                               trainable=True,)\n",
    "        \n",
    "        self.gru = tf.keras.layers.GRU(self.enc_units,\n",
    "                                   return_sequences=True,\n",
    "                                   return_state=True,\n",
    "                                   recurrent_initializer='glorot_uniform')\n",
    "    def call(self, x, hidden):\n",
    "        x = self.embedding(x)\n",
    "        output, state = self.gru(x, initial_state = hidden)\n",
    "        return output, state\n",
    "\n",
    "    def initialize_hidden_state(self):\n",
    "        return tf.zeros((self.batch_sz, self.enc_units))"
   ]
  },
  {
   "cell_type": "markdown",
   "metadata": {},
   "source": [
    "class sau đây sẽ thực hiện cơ chế Attention với đầu vào là kết quả trả về của bộ mã hóa, cơ chể attention tính toán và trả về 2 thành phần attention_weights và context_vector"
   ]
  },
  {
   "cell_type": "code",
   "execution_count": 27,
   "metadata": {},
   "outputs": [],
   "source": [
    "class BahdanauAttention(tf.keras.layers.Layer):\n",
    "\n",
    "    def __init__(self, units):\n",
    "        \n",
    "        super(BahdanauAttention, self).__init__()\n",
    "        self.W1 = tf.keras.layers.Dense(units)\n",
    "        self.W2 = tf.keras.layers.Dense(units)\n",
    "        self.V = tf.keras.layers.Dense(1)\n",
    "        \n",
    "    def call(self, query, values):\n",
    "        \n",
    "        query_with_time_axis = tf.expand_dims(query, 1)\n",
    "        score = self.V(tf.nn.tanh(\n",
    "            self.W1(query_with_time_axis) + self.W2(values)))\n",
    "\n",
    "        # attention_weights shape == (batch_size, max_length, 1)\n",
    "        attention_weights = tf.nn.softmax(score, axis=1)\n",
    "\n",
    "        # context_vector shape sau khi sum == (batch_size, hidden_size)\n",
    "        context_vector = attention_weights * values\n",
    "        context_vector = tf.reduce_sum(context_vector, axis=1)\n",
    "\n",
    "        return context_vector, attention_weights"
   ]
  },
  {
   "cell_type": "markdown",
   "metadata": {},
   "source": [
    "Sau đó context_vector, attention_weights sẽ được đưa vào bộ giải mã để tính toán và đưa ra dự đoán từ tiếp theo trong bản dịch tiếng Anh từ đầu vào là bản dịch Tiếng Việt"
   ]
  },
  {
   "cell_type": "code",
   "execution_count": 28,
   "metadata": {},
   "outputs": [],
   "source": [
    "class Decoder(tf.keras.Model):\n",
    "\n",
    "    def __init__(self, vocab_size, embedding_dim, dec_units, batch_sz):\n",
    "        \n",
    "        super(Decoder, self).__init__()\n",
    "        self.batch_sz = batch_sz\n",
    "        self.dec_units = dec_units\n",
    "        self.embedding = tf.keras.layers.Embedding(vocab_size, embedding_dim)\n",
    "        self.gru = tf.keras.layers.GRU(self.dec_units,\n",
    "                                   return_sequences=True,\n",
    "                                   return_state=True,\n",
    "                                   recurrent_initializer='glorot_uniform')\n",
    "        self.fc = tf.keras.layers.Dense(vocab_size)\n",
    "\n",
    "        # Sử dụng cho attention\n",
    "        self.attention = BahdanauAttention(self.dec_units)\n",
    "\n",
    "    def call(self, x, hidden, enc_output):\n",
    "    # enc_output shape == (batch_size, max_length, hidden_size)\n",
    "        context_vector, attention_weights = self.attention(hidden, enc_output)\n",
    "\n",
    "    # hình dạng x sau khi đi qua layer embedding == (batch_size, 1, embedding_dim)\n",
    "        x = self.embedding(x)\n",
    "\n",
    "    # hình dạng x sau khi concatenation == (batch_size, 1, embedding_dim + hidden_size)\n",
    "        x = tf.concat([tf.expand_dims(context_vector, 1), x], axis=-1)\n",
    "\n",
    "    # chuyển vectơ được concat tới GRU\n",
    "        output, state = self.gru(x)\n",
    "\n",
    "    # output shape == (batch_size * 1, hidden_size)\n",
    "        output = tf.reshape(output, (-1, output.shape[2]))\n",
    "\n",
    "    # output shape == (batch_size, vocab)\n",
    "        x = self.fc(output)\n",
    "\n",
    "        return x, state, attention_weights"
   ]
  },
  {
   "cell_type": "code",
   "execution_count": 29,
   "metadata": {},
   "outputs": [],
   "source": [
    "encoder = Encoder(vocab_inp_size, embedding_dim, units, BATCH_SIZE)\n",
    "decoder = Decoder(vocab_tar_size, embedding_dim, units, BATCH_SIZE)"
   ]
  },
  {
   "cell_type": "markdown",
   "metadata": {},
   "source": [
    "## Xác định trình tối ưu hóa và loss function cho bài toán"
   ]
  },
  {
   "cell_type": "code",
   "execution_count": 30,
   "metadata": {},
   "outputs": [],
   "source": [
    "optimizer = tf.keras.optimizers.Adam()\n",
    "loss_object = tf.keras.losses.SparseCategoricalCrossentropy(\n",
    "    from_logits=True, reduction='none')\n",
    "\n",
    "def loss_function(real, pred):\n",
    "    \n",
    "    mask = tf.math.logical_not(tf.math.equal(real, 0))\n",
    "    loss_ = loss_object(real, pred)\n",
    "\n",
    "    mask = tf.cast(mask, dtype=loss_.dtype)\n",
    "    loss_ *= mask\n",
    "\n",
    "    return tf.reduce_mean(loss_)"
   ]
  },
  {
   "cell_type": "markdown",
   "metadata": {},
   "source": [
    "Tạo một tệp để lưu các trọng số trong quá trính đào tạo cho tiện lợi"
   ]
  },
  {
   "cell_type": "code",
   "execution_count": 31,
   "metadata": {},
   "outputs": [],
   "source": [
    "checkpoint_dir = './training_checkpoints'\n",
    "checkpoint_prefix = os.path.join(checkpoint_dir, \"ckpt\")\n",
    "checkpoint = tf.train.Checkpoint(optimizer=optimizer,\n",
    "                                 encoder=encoder,\n",
    "                                 decoder=decoder)"
   ]
  },
  {
   "cell_type": "markdown",
   "metadata": {},
   "source": [
    "## Training\n",
    "\n",
    "1. Chuyển đầu vào qua bộ mã hóa để trả về đầu ra bộ mã hóa và trạng thái ẩn bộ mã hóa.\n",
    "2. Đầu ra của bộ mã hóa, trạng thái ẩn của bộ mã hóa và đầu vào của bộ giải mã (là mã thông báo \"start\") được chuyển đến bộ giải mã.\n",
    "3. Bộ giải mã trả về các dự đoán và trạng thái ẩn của nó.\n",
    "4. Trạng thái ẩn của bộ giải mã sau đó được chuyển trở lại mô hình và các dự đoán được sử dụng để tính toán loss.\n",
    "5. Quyết định đầu vào tiếp theo cho bộ giải mã (từ target được chuyển làm đầu vào tiếp theo cho bộ giải mã).\n",
    "6. Bước cuối cùng là tính toán gradient và áp dụng nó vào trình tối ưu hóa và lan truyền ngược."
   ]
  },
  {
   "cell_type": "code",
   "execution_count": 32,
   "metadata": {},
   "outputs": [],
   "source": [
    "@tf.function\n",
    "def train_step(inp, targ, enc_hidden):\n",
    "    loss = 0\n",
    "    \n",
    "    with tf.GradientTape() as tape:\n",
    "        enc_output, enc_hidden = encoder(inp, enc_hidden)\n",
    "        dec_hidden = enc_hidden\n",
    "        dec_input = tf.expand_dims([targ_lang.word_index['<start>']] * BATCH_SIZE, 1)\n",
    "\n",
    "        # lấy target làm đầu vào tiếp theo\n",
    "        for t in range(1, targ.shape[1]):\n",
    "            # chuyển enc_output đến decoder\n",
    "            predictions, dec_hidden, _ = decoder(dec_input, dec_hidden, enc_output)\n",
    "            loss += loss_function(targ[:, t], predictions)\n",
    "            dec_input = tf.expand_dims(targ[:, t], 1)\n",
    "    \n",
    "    batch_loss = (loss / int(targ.shape[1]))\n",
    "    variables = encoder.trainable_variables + decoder.trainable_variables\n",
    "    gradients = tape.gradient(loss, variables)\n",
    "    optimizer.apply_gradients(zip(gradients, variables))\n",
    "    \n",
    "    return batch_loss"
   ]
  },
  {
   "cell_type": "code",
   "execution_count": 33,
   "metadata": {},
   "outputs": [
    {
     "name": "stdout",
     "output_type": "stream",
     "text": [
      "Epoch 1 Batch 0 Loss 1.7818\n",
      "Epoch 2 Batch 0 Loss 1.2318\n",
      "Epoch 2 Loss 1.2097\n",
      "Epoch 3 Batch 0 Loss 1.2033\n",
      "Epoch 4 Batch 0 Loss 0.9667\n",
      "Epoch 4 Loss 1.0212\n",
      "Epoch 5 Batch 0 Loss 0.8959\n",
      "Epoch 6 Batch 0 Loss 0.8717\n",
      "Epoch 6 Loss 0.8608\n",
      "Epoch 7 Batch 0 Loss 0.8336\n",
      "Epoch 8 Batch 0 Loss 0.7716\n",
      "Epoch 8 Loss 0.7297\n",
      "Epoch 9 Batch 0 Loss 0.6731\n",
      "Epoch 10 Batch 0 Loss 0.5506\n",
      "Epoch 10 Loss 0.5775\n",
      "Epoch 11 Batch 0 Loss 0.5053\n",
      "Epoch 12 Batch 0 Loss 0.4012\n",
      "Epoch 12 Loss 0.4139\n",
      "Epoch 13 Batch 0 Loss 0.3451\n",
      "Epoch 14 Batch 0 Loss 0.2659\n",
      "Epoch 14 Loss 0.2717\n",
      "Epoch 15 Batch 0 Loss 0.2100\n",
      "Epoch 16 Batch 0 Loss 0.1994\n",
      "Epoch 16 Loss 0.1682\n",
      "Epoch 17 Batch 0 Loss 0.1151\n",
      "Epoch 18 Batch 0 Loss 0.1297\n",
      "Epoch 18 Loss 0.1024\n",
      "Epoch 19 Batch 0 Loss 0.0656\n",
      "Epoch 20 Batch 0 Loss 0.0691\n",
      "Epoch 20 Loss 0.0634\n"
     ]
    }
   ],
   "source": [
    "EPOCHS = 20\n",
    "\n",
    "for epoch in range(EPOCHS):\n",
    "    \n",
    "    enc_hidden = encoder.initialize_hidden_state()\n",
    "    total_loss = 0\n",
    "    \n",
    "    for (batch, (inp, targ)) in enumerate(dataset.take(steps_per_epoch)):\n",
    "        \n",
    "        batch_loss = train_step(inp, targ, enc_hidden)\n",
    "        total_loss += batch_loss\n",
    "        \n",
    "        if batch % 100 == 0:\n",
    "            print('Epoch {} Batch {} Loss {:.4f}'.format(epoch + 1,\n",
    "                                                   batch,\n",
    "                                                   batch_loss.numpy()))\n",
    "  # lưu checkpoint của model sau mỗi 2 epochs\n",
    "    if (epoch + 1) % 2 == 0:\n",
    "        checkpoint.save(file_prefix = checkpoint_prefix)\n",
    "        print('Epoch {} Loss {:.4f}'.format(epoch + 1,\n",
    "                                      total_loss / steps_per_epoch))"
   ]
  },
  {
   "cell_type": "markdown",
   "metadata": {},
   "source": [
    "## Translate\n",
    "\n",
    "- Chức năng evaluate tương tự như vòng lặp training. Đầu vào cho bộ giải mã tại mỗi time steps là các dự đoán trước đó của nó cùng với trạng thái ẩn và đầu ra của bộ mã hóa.\n",
    "- Dừng dự đoán khi mô hình dự đoán mã thông báo 'end'.\n",
    "- lưu trữ trọng số attention cho mỗi time steps"
   ]
  },
  {
   "cell_type": "code",
   "execution_count": 34,
   "metadata": {},
   "outputs": [],
   "source": [
    "def evaluate(sentence):\n",
    "    \n",
    "    attention_plot = np.zeros((max_length_targ, max_length_inp))\n",
    "    sentence = preprocess_sentence(sentence)\n",
    "    \n",
    "    inputs = [inp_lang.word_index[i] for i in sentence.split(' ')]\n",
    "    inputs = tf.keras.preprocessing.sequence.pad_sequences([inputs],\n",
    "                                                         maxlen=max_length_inp,\n",
    "                                                         padding='post')\n",
    "    \n",
    "    inputs = tf.convert_to_tensor(inputs)\n",
    "    result = ''\n",
    "    \n",
    "    hidden = [tf.zeros((1, units))]\n",
    "    enc_out, enc_hidden = encoder(inputs, hidden)\n",
    "    \n",
    "    dec_hidden = enc_hidden\n",
    "    dec_input = tf.expand_dims([targ_lang.word_index['<start>']], 0)\n",
    "    \n",
    "    for t in range(max_length_targ):\n",
    "        predictions, dec_hidden, attention_weights = decoder(dec_input,\n",
    "                                                         dec_hidden,\n",
    "                                                         enc_out)\n",
    "\n",
    "    # lưu trữ các trọng số attention để plot\n",
    "        attention_weights = tf.reshape(attention_weights, (-1, ))\n",
    "        attention_plot[t] = attention_weights.numpy()\n",
    "        \n",
    "        predicted_id = tf.argmax(predictions[0]).numpy()\n",
    "        result += targ_lang.index_word[predicted_id] + ' '\n",
    "        \n",
    "        if targ_lang.index_word[predicted_id] == '<end>':\n",
    "            return result, sentence, attention_plot\n",
    "\n",
    "    # ID dự đoán được đưa trở lại mô hình\n",
    "        dec_input = tf.expand_dims([predicted_id], 0)\n",
    "        \n",
    "    return result, sentence, attention_plot"
   ]
  },
  {
   "cell_type": "code",
   "execution_count": 35,
   "metadata": {},
   "outputs": [],
   "source": [
    "# chức năng để plot các trọng số attention\n",
    "def plot_attention(attention, sentence, predicted_sentence):\n",
    "    \n",
    "    fig = plt.figure(figsize=(10,10))\n",
    "    ax = fig.add_subplot(1, 1, 1)\n",
    "    \n",
    "    ax.matshow(attention, cmap='viridis')\n",
    "    fontdict = {'fontsize': 14}\n",
    "    \n",
    "    ax.set_xticklabels([''] + sentence, fontdict=fontdict, rotation=90)\n",
    "    ax.set_yticklabels([''] + predicted_sentence, fontdict=fontdict)\n",
    "    \n",
    "    ax.xaxis.set_major_locator(ticker.MultipleLocator(1))\n",
    "    ax.yaxis.set_major_locator(ticker.MultipleLocator(1))\n",
    "    plt.show()"
   ]
  },
  {
   "cell_type": "code",
   "execution_count": 36,
   "metadata": {},
   "outputs": [],
   "source": [
    "def translate(sentence):\n",
    "    \n",
    "    result, sentence, attention_plot = evaluate(sentence)\n",
    "    print('Input: %s' % (sentence))\n",
    "    \n",
    "    print('Model dịch: {}'.format(result))\n",
    "    \n",
    "    attention_plot = attention_plot[:len(result.split(' ')), :len(sentence.split(' '))]\n",
    "    plot_attention(attention_plot, sentence.split(' '), result.split(' '))"
   ]
  },
  {
   "cell_type": "code",
   "execution_count": 37,
   "metadata": {},
   "outputs": [
    {
     "data": {
      "text/plain": [
       "<tensorflow.python.training.tracking.util.CheckpointLoadStatus at 0x22e5bb83e08>"
      ]
     },
     "execution_count": 37,
     "metadata": {},
     "output_type": "execute_result"
    }
   ],
   "source": [
    "# Load điểm checkpoint mới nhất trong checkpoint_dir\n",
    "checkpoint.restore(tf.train.latest_checkpoint(checkpoint_dir))"
   ]
  },
  {
   "cell_type": "code",
   "execution_count": 60,
   "metadata": {},
   "outputs": [
    {
     "name": "stderr",
     "output_type": "stream",
     "text": [
      "C:\\Users\\Admin\\anaconda3\\lib\\site-packages\\ipykernel_launcher.py:1: DeprecationWarning: This function is deprecated. Please call randint(1, 4083 + 1) instead\n",
      "  \"\"\"Entry point for launching an IPython kernel.\n"
     ]
    }
   ],
   "source": [
    "random_inx = np.random.random_integers(4083, size=(15,))"
   ]
  },
  {
   "cell_type": "code",
   "execution_count": 61,
   "metadata": {
    "scrolled": false
   },
   "outputs": [
    {
     "name": "stdout",
     "output_type": "stream",
     "text": [
      "Input: <start> <start> bạn rửa quả táo này giúp tôi được không ? <end> <end>\n",
      "Model dịch: could you please wash this apple for me ? <end> \n"
     ]
    },
    {
     "data": {
      "image/png": "[encoded data removed]",
      "text/plain": [
       "<Figure size 720x720 with 1 Axes>"
      ]
     },
     "metadata": {
      "needs_background": "light"
     },
     "output_type": "display_data"
    },
    {
     "name": "stdout",
     "output_type": "stream",
     "text": [
      "Input: <start> <start> đây là bạn của tôi tom <end> <end>\n",
      "Model dịch: this is my friend tom <end> \n"
     ]
    },
    {
     "data": {
      "image/png": "[encoded data removed]",
      "text/plain": [
       "<Figure size 720x720 with 1 Axes>"
      ]
     },
     "metadata": {
      "needs_background": "light"
     },
     "output_type": "display_data"
    },
    {
     "name": "stdout",
     "output_type": "stream",
     "text": [
      "Input: <start> <start> cha của tom là một kẻ nghiện rượu <end> <end>\n",
      "Model dịch: tom is a socialist <end> \n"
     ]
    },
    {
     "data": {
      "image/png": "[encoded data removed]",
      "text/plain": [
       "<Figure size 720x720 with 1 Axes>"
      ]
     },
     "metadata": {
      "needs_background": "light"
     },
     "output_type": "display_data"
    },
    {
     "name": "stdout",
     "output_type": "stream",
     "text": [
      "Input: <start> <start> bộ phim bắt đầu lúc 10 giờ <end> <end>\n",
      "Model dịch: the silver clock at ten o clock <end> \n"
     ]
    },
    {
     "data": {
      "image/png": "[encoded data removed]",
      "text/plain": [
       "<Figure size 720x720 with 1 Axes>"
      ]
     },
     "metadata": {
      "needs_background": "light"
     },
     "output_type": "display_data"
    },
    {
     "name": "stdout",
     "output_type": "stream",
     "text": [
      "Input: <start> <start> tôi cứ tưởng họ giận tôi vì tôi không giúp họ rửa ô tô <end> <end>\n",
      "Model dịch: i thought they were angry with me the car <end> \n"
     ]
    },
    {
     "data": {
      "image/png": "[encoded data removed]",
      "text/plain": [
       "<Figure size 720x720 with 1 Axes>"
      ]
     },
     "metadata": {
      "needs_background": "light"
     },
     "output_type": "display_data"
    },
    {
     "name": "stdout",
     "output_type": "stream",
     "text": [
      "Input: <start> <start> ờ xin lỗi nghe <end> <end>\n",
      "Model dịch: i m sorry <end> \n"
     ]
    },
    {
     "data": {
      "image/png": "[encoded data removed]",
      "text/plain": [
       "<Figure size 720x720 with 1 Axes>"
      ]
     },
     "metadata": {
      "needs_background": "light"
     },
     "output_type": "display_data"
    },
    {
     "name": "stdout",
     "output_type": "stream",
     "text": [
      "Input: <start> <start> bạn có hiểu được sự khác biệt không ? <end> <end>\n",
      "Model dịch: do you understand the difference ? <end> \n"
     ]
    },
    {
     "data": {
      "image/png": "[encoded data removed]",
      "text/plain": [
       "<Figure size 720x720 with 1 Axes>"
      ]
     },
     "metadata": {
      "needs_background": "light"
     },
     "output_type": "display_data"
    },
    {
     "name": "stdout",
     "output_type": "stream",
     "text": [
      "Input: <start> <start> những ai sẽ đến dự tiệc ? một vài người bạn và bốn hoặc năm đồng nghiệp <end> <end>\n",
      "Model dịch: what will you ll take a few friends <end> \n"
     ]
    },
    {
     "data": {
      "image/png": "[encoded data removed]",
      "text/plain": [
       "<Figure size 720x720 with 1 Axes>"
      ]
     },
     "metadata": {
      "needs_background": "light"
     },
     "output_type": "display_data"
    },
    {
     "name": "stdout",
     "output_type": "stream",
     "text": [
      "Input: <start> <start> nó là em trai tôi <end> <end>\n",
      "Model dịch: he s brother <end> \n"
     ]
    },
    {
     "data": {
      "image/png": "[encoded data removed]",
      "text/plain": [
       "<Figure size 720x720 with 1 Axes>"
      ]
     },
     "metadata": {
      "needs_background": "light"
     },
     "output_type": "display_data"
    },
    {
     "name": "stdout",
     "output_type": "stream",
     "text": [
      "Input: <start> <start> bạn có mọi lý do để giận tôi <end> <end>\n",
      "Model dịch: you have every right to be mad at me <end> \n"
     ]
    },
    {
     "data": {
      "image/png": "[encoded data removed]",
      "text/plain": [
       "<Figure size 720x720 with 1 Axes>"
      ]
     },
     "metadata": {
      "needs_background": "light"
     },
     "output_type": "display_data"
    },
    {
     "name": "stdout",
     "output_type": "stream",
     "text": [
      "Input: <start> <start> những vị bác sĩ được tuyển vào trương trình nghiên cứu bệnh ung thư <end> <end>\n",
      "Model dịch: a lot of the church every day <end> \n"
     ]
    },
    {
     "data": {
      "image/png": "[encoded data removed]",
      "text/plain": [
       "<Figure size 720x720 with 1 Axes>"
      ]
     },
     "metadata": {
      "needs_background": "light"
     },
     "output_type": "display_data"
    },
    {
     "name": "stdout",
     "output_type": "stream",
     "text": [
      "Input: <start> <start> tom ngồi cạnh mary bạn gái cũ của anh ta <end> <end>\n",
      "Model dịch: tom sat across from his ex girlfriend <end> \n"
     ]
    },
    {
     "data": {
      "image/png": "[encoded data removed]",
      "text/plain": [
       "<Figure size 720x720 with 1 Axes>"
      ]
     },
     "metadata": {
      "needs_background": "light"
     },
     "output_type": "display_data"
    },
    {
     "name": "stdout",
     "output_type": "stream",
     "text": [
      "Input: <start> <start> mất bao nhiêu thời gian để đi từ đay tới ga ? <end> <end>\n",
      "Model dịch: how much it take to the station ? <end> \n"
     ]
    },
    {
     "data": {
      "image/png": "[encoded data removed]",
      "text/plain": [
       "<Figure size 720x720 with 1 Axes>"
      ]
     },
     "metadata": {
      "needs_background": "light"
     },
     "output_type": "display_data"
    },
    {
     "name": "stdout",
     "output_type": "stream",
     "text": [
      "Input: <start> <start> bạn sẽ đến bữa tiệc tối nay chứ ? <end> <end>\n",
      "Model dịch: are you going to the party tonight ? <end> \n"
     ]
    },
    {
     "data": {
      "image/png": "[encoded data removed]",
      "text/plain": [
       "<Figure size 720x720 with 1 Axes>"
      ]
     },
     "metadata": {
      "needs_background": "light"
     },
     "output_type": "display_data"
    },
    {
     "name": "stdout",
     "output_type": "stream",
     "text": [
      "Input: <start> <start> tom đã trở nên nổi tiếng rất nhanh <end> <end>\n",
      "Model dịch: tom became famous very quickly <end> \n"
     ]
    },
    {
     "data": {
      "image/png": "[encoded data removed]",
      "text/plain": [
       "<Figure size 720x720 with 1 Axes>"
      ]
     },
     "metadata": {
      "needs_background": "light"
     },
     "output_type": "display_data"
    }
   ],
   "source": [
    "# Dịch 15 câu ngẫu nhiên trong dataset\n",
    "for i in random_inx:\n",
    "    translate(vie[i])"
   ]
  },
  {
   "cell_type": "code",
   "execution_count": null,
   "metadata": {},
   "outputs": [],
   "source": []
  }
 ],
 "metadata": {
  "kernelspec": {
   "display_name": "Python 3.7.6 64-bit ('base')",
   "language": "python",
   "name": "python37664bitbase18da9236ef1e436cb64ec95c63729acf"
  },
  "language_info": {
   "codemirror_mode": {
    "name": "ipython",
    "version": 3
   },
   "file_extension": ".py",
   "mimetype": "text/x-python",
   "name": "python",
   "nbconvert_exporter": "python",
   "pygments_lexer": "ipython3",
   "version": "3.7.6"
  }
 },
 "nbformat": 4,
 "nbformat_minor": 4
}
