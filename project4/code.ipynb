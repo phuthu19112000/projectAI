{
 "cells": [
  {
   "cell_type": "markdown",
   "metadata": {},
   "source": [
    "# Thực hiện phân loại hình ảnh sử dụng kiến trúc CNN sử dụng GPU\n",
    "\n",
    "Trong bài toán này ta sẽ sử dụng deep neural network CNN để thực hiện phân loại đa lớp trên bộ dữ liệu Fashion-MNIST. Bộ dữ liệu này bao gồm 70.000 hình ảnh 28x28 gray của các sản phẩm thời trang từ 10 danh mục, với 7.000 hình ảnh cho mỗi danh mục,  chẳng hạn như giày dép, áo phông, váy, v.v. Ánh xạ số nguyên từ 0-9 vào class được liệt kê dưới đây:\n",
    "\n",
    "    0: T-shirt/top\n",
    "    1: Trouser\n",
    "    2: Pullover\n",
    "    3: Dress\n",
    "    4: Coat\n",
    "    5: Sandal\n",
    "    6: Shirt\n",
    "    7: Sneaker\n",
    "    8: Bag\n",
    "    9: Ankle boot\n",
    "\n",
    "### Download the Fashion-MNIST dataset"
   ]
  },
  {
   "cell_type": "code",
   "execution_count": 1,
   "metadata": {},
   "outputs": [],
   "source": [
    "import io\n",
    "import tensorflow as tf\n",
    "import tensorflow_datasets as tfds\n",
    "from keras.layers import Dense, Dropout, Flatten, Conv2D, MaxPool2D, BatchNormalization\n",
    "from tensorflow.keras import datasets, layers, models\n",
    "from tensorflow import keras\n",
    "import matplotlib.pyplot as plt\n",
    "import numpy as np\n",
    "import os"
   ]
  },
  {
   "cell_type": "markdown",
   "metadata": {},
   "source": [
    "### Download the dataset"
   ]
  },
  {
   "cell_type": "code",
   "execution_count": 2,
   "metadata": {},
   "outputs": [],
   "source": [
    "datasets, info = tfds.load(name='fashion_mnist', with_info=True, as_supervised=True)\n",
    "\n",
    "mnist_train, mnist_test = datasets['train'], datasets['test']"
   ]
  },
  {
   "cell_type": "markdown",
   "metadata": {},
   "source": [
    "### Xác định distribution strategy"
   ]
  },
  {
   "cell_type": "code",
   "execution_count": 3,
   "metadata": {},
   "outputs": [
    {
     "name": "stdout",
     "output_type": "stream",
     "text": [
      "INFO:tensorflow:Using MirroredStrategy with devices ('/job:localhost/replica:0/task:0/device:GPU:0',)\n"
     ]
    },
    {
     "name": "stderr",
     "output_type": "stream",
     "text": [
      "INFO:tensorflow:Using MirroredStrategy with devices ('/job:localhost/replica:0/task:0/device:GPU:0',)\n"
     ]
    }
   ],
   "source": [
    "strategy = tf.distribute.MirroredStrategy()"
   ]
  },
  {
   "cell_type": "code",
   "execution_count": 4,
   "metadata": {},
   "outputs": [
    {
     "name": "stdout",
     "output_type": "stream",
     "text": [
      "Number of devices: 1\n"
     ]
    }
   ],
   "source": [
    "print('Number of devices: {}'.format(strategy.num_replicas_in_sync))"
   ]
  },
  {
   "cell_type": "markdown",
   "metadata": {},
   "source": [
    "### Setup input pipeline\n",
    "\n",
    "Khi đào tạo một mô hình có nhiều GPU, ta có thể sử dụng hiệu quả sức mạnh tính toán bằng cách tăng kích thước batch. Nói chung, hãy sử dụng kích thước batch lớn nhất phù hợp với bộ nhớ GPU và điều chỉnh learning rate cho phù hợp."
   ]
  },
  {
   "cell_type": "code",
   "execution_count": 5,
   "metadata": {},
   "outputs": [
    {
     "name": "stdout",
     "output_type": "stream",
     "text": [
      "train examples: 60000\n",
      "test examples: 10000\n"
     ]
    }
   ],
   "source": [
    "num_train_examples = info.splits['train'].num_examples\n",
    "num_test_examples = info.splits['test'].num_examples\n",
    "print(\"train examples: {}\".format(num_train_examples))\n",
    "print(\"test examples: {}\".format(num_test_examples))\n",
    "buffer_size = 10000\n",
    "\n",
    "batch_size_per_device = 64\n",
    "batch_size = batch_size_per_device * strategy.num_replicas_in_sync"
   ]
  },
  {
   "cell_type": "markdown",
   "metadata": {},
   "source": [
    "**Rescale**\n",
    "\n",
    "Chuẩn hóa dữ liệu: CNN thực hiện dữ liệu trên [0..1] nhanh hơn trên [0..255]."
   ]
  },
  {
   "cell_type": "code",
   "execution_count": 6,
   "metadata": {},
   "outputs": [],
   "source": [
    "def scale(image, label):\n",
    "    \n",
    "    image = tf.cast(image, tf.float32)\n",
    "    image /= 255\n",
    "    \n",
    "    return image, label"
   ]
  },
  {
   "cell_type": "markdown",
   "metadata": {},
   "source": [
    "Áp dụng function này cho dữ liệu đào tạo, xáo trộn dữ liệu đào tạo và batch."
   ]
  },
  {
   "cell_type": "code",
   "execution_count": 7,
   "metadata": {},
   "outputs": [],
   "source": [
    "eval_dataset = mnist_train.take(int(num_train_examples*0.1))\n",
    "train_dataset = mnist_train.skip(int(num_train_examples*0.1))\n",
    "\n",
    "test_dataset = mnist_test.map(scale).batch(batch_size)\n",
    "train_dataset = train_dataset.map(scale).cache().shuffle(buffer_size).batch(batch_size)\n",
    "eval_dataset = eval_dataset.map(scale).batch(batch_size)"
   ]
  },
  {
   "cell_type": "markdown",
   "metadata": {},
   "source": [
    "### Xây dựng model\n",
    "\n",
    "Vì chúng ta đang training trên đa GPU nên ta sẽ xây dưng model bên trong strategy.scope\n",
    "\n",
    "Ở đây ta sử dụng Squential API Keras, nơi ta chỉ cần thêm từng lớp một, bắt đầu từ đầu vào.\n",
    "\n",
    "- Đầu tiên là lớp chập (Conv2D). Nó giống như một tập hợp các bộ lọc có thể học được. Ma trận bộ lọc được áp dụng trên toàn bộ hình ảnh. Bộ lọc có thể được xem như một sự biến đổi của hình ảnh.\n",
    "\n",
    "- Lớp quan trọng thứ hai trong CNN là lớp gộp (MaxPool2D). Nó nhìn vào 2 pixel lân cận và chọn giá trị lớn nhất. Chúng được sử dụng để giảm chi phí tính toán và ở một mức độ nào đó cũng làm giảm việc overfiting\n",
    "\n",
    "- Dropout là một phương pháp regularization , trong đó tỷ lệ các nút trong lớp được bỏ qua ngẫu nhiên cho mỗi mẫu đào tạo. Kỹ thuật này giảm bớt overfiting trong một mang neural phức tạp\n",
    "\n",
    "- 'RELU' (activation function max(0,x)).Được sử dụng để thêm tính phi tuyến tính vào network\n",
    "\n",
    "- Batch normalization thực hiện việc chuẩn hóa (normalizing) và zero centering (mean substracting) dữ liệu trước khi đưa qua hàm activation (giá trị trung bình (mean) sẽ được đưa về 0 và phương sai (variance) sẽ được đưa về 1). Để thực hiện 2 công việc trên, batch normalization tính toán phương sai và độ lệch chuẩn của dữ liệu dựa trên các batchs, rồi sử dụng 2 tham số gamma và beta tinh chỉnh đầu ra.\n",
    "\n",
    "- Lớp Flatten được sử dụng để chuyển đổi các features cuối cùng thành một vectơ 1D duy nhất.\n",
    "\n",
    "- Cuối cùng, sử dụng các layer Dense để đưa ra kết quả\n",
    "\n",
    "Thêm một layers Conv2D-> MaxPool2D-> Dropout có thể giúp mạng nắm bắt các tính năng phức tạp hơn. Nhưng hãy nhớ mạng càng sâu thì chi phí tính toán càng đắt.\n",
    "\n",
    "API tf.distribute.Strategy cung cấp một bản tóm tắt để phân phối đào tạo trên nhiều đơn vị xử lý. Mục đích là cho phép người dùng kích hoạt đào tạo phân tán bằng cách sử dụng các mô hình và mã đào tạo hiện có, với những thay đổi tối thiểu. Từ đó giúp tăng đáng kể hiệu suất training trên những tập dữ liệu lớn sử dụng GPU."
   ]
  },
  {
   "cell_type": "code",
   "execution_count": 8,
   "metadata": {},
   "outputs": [
    {
     "name": "stdout",
     "output_type": "stream",
     "text": [
      "INFO:tensorflow:Using MirroredStrategy with devices ('/job:localhost/replica:0/task:0/device:GPU:0',)\n"
     ]
    },
    {
     "name": "stderr",
     "output_type": "stream",
     "text": [
      "INFO:tensorflow:Using MirroredStrategy with devices ('/job:localhost/replica:0/task:0/device:GPU:0',)\n"
     ]
    }
   ],
   "source": [
    "strategy = tf.distribute.MirroredStrategy()"
   ]
  },
  {
   "cell_type": "code",
   "execution_count": 9,
   "metadata": {},
   "outputs": [
    {
     "name": "stdout",
     "output_type": "stream",
     "text": [
      "Số lượng thiết bị: 1\n"
     ]
    }
   ],
   "source": [
    "print('Số lượng thiết bị: {}'.format(strategy.num_replicas_in_sync))"
   ]
  },
  {
   "cell_type": "code",
   "execution_count": 10,
   "metadata": {
    "scrolled": true
   },
   "outputs": [
    {
     "name": "stdout",
     "output_type": "stream",
     "text": [
      "INFO:tensorflow:Reduce to /job:localhost/replica:0/task:0/device:CPU:0 then broadcast to ('/job:localhost/replica:0/task:0/device:CPU:0',).\n"
     ]
    },
    {
     "name": "stderr",
     "output_type": "stream",
     "text": [
      "INFO:tensorflow:Reduce to /job:localhost/replica:0/task:0/device:CPU:0 then broadcast to ('/job:localhost/replica:0/task:0/device:CPU:0',).\n"
     ]
    },
    {
     "name": "stdout",
     "output_type": "stream",
     "text": [
      "INFO:tensorflow:Reduce to /job:localhost/replica:0/task:0/device:CPU:0 then broadcast to ('/job:localhost/replica:0/task:0/device:CPU:0',).\n"
     ]
    },
    {
     "name": "stderr",
     "output_type": "stream",
     "text": [
      "INFO:tensorflow:Reduce to /job:localhost/replica:0/task:0/device:CPU:0 then broadcast to ('/job:localhost/replica:0/task:0/device:CPU:0',).\n"
     ]
    },
    {
     "name": "stdout",
     "output_type": "stream",
     "text": [
      "INFO:tensorflow:Reduce to /job:localhost/replica:0/task:0/device:CPU:0 then broadcast to ('/job:localhost/replica:0/task:0/device:CPU:0',).\n"
     ]
    },
    {
     "name": "stderr",
     "output_type": "stream",
     "text": [
      "INFO:tensorflow:Reduce to /job:localhost/replica:0/task:0/device:CPU:0 then broadcast to ('/job:localhost/replica:0/task:0/device:CPU:0',).\n"
     ]
    },
    {
     "name": "stdout",
     "output_type": "stream",
     "text": [
      "INFO:tensorflow:Reduce to /job:localhost/replica:0/task:0/device:CPU:0 then broadcast to ('/job:localhost/replica:0/task:0/device:CPU:0',).\n"
     ]
    },
    {
     "name": "stderr",
     "output_type": "stream",
     "text": [
      "INFO:tensorflow:Reduce to /job:localhost/replica:0/task:0/device:CPU:0 then broadcast to ('/job:localhost/replica:0/task:0/device:CPU:0',).\n"
     ]
    },
    {
     "name": "stdout",
     "output_type": "stream",
     "text": [
      "INFO:tensorflow:Reduce to /job:localhost/replica:0/task:0/device:CPU:0 then broadcast to ('/job:localhost/replica:0/task:0/device:CPU:0',).\n"
     ]
    },
    {
     "name": "stderr",
     "output_type": "stream",
     "text": [
      "INFO:tensorflow:Reduce to /job:localhost/replica:0/task:0/device:CPU:0 then broadcast to ('/job:localhost/replica:0/task:0/device:CPU:0',).\n"
     ]
    },
    {
     "name": "stdout",
     "output_type": "stream",
     "text": [
      "INFO:tensorflow:Reduce to /job:localhost/replica:0/task:0/device:CPU:0 then broadcast to ('/job:localhost/replica:0/task:0/device:CPU:0',).\n"
     ]
    },
    {
     "name": "stderr",
     "output_type": "stream",
     "text": [
      "INFO:tensorflow:Reduce to /job:localhost/replica:0/task:0/device:CPU:0 then broadcast to ('/job:localhost/replica:0/task:0/device:CPU:0',).\n"
     ]
    },
    {
     "name": "stdout",
     "output_type": "stream",
     "text": [
      "INFO:tensorflow:Reduce to /job:localhost/replica:0/task:0/device:CPU:0 then broadcast to ('/job:localhost/replica:0/task:0/device:CPU:0',).\n"
     ]
    },
    {
     "name": "stderr",
     "output_type": "stream",
     "text": [
      "INFO:tensorflow:Reduce to /job:localhost/replica:0/task:0/device:CPU:0 then broadcast to ('/job:localhost/replica:0/task:0/device:CPU:0',).\n"
     ]
    },
    {
     "name": "stdout",
     "output_type": "stream",
     "text": [
      "INFO:tensorflow:Reduce to /job:localhost/replica:0/task:0/device:CPU:0 then broadcast to ('/job:localhost/replica:0/task:0/device:CPU:0',).\n"
     ]
    },
    {
     "name": "stderr",
     "output_type": "stream",
     "text": [
      "INFO:tensorflow:Reduce to /job:localhost/replica:0/task:0/device:CPU:0 then broadcast to ('/job:localhost/replica:0/task:0/device:CPU:0',).\n"
     ]
    },
    {
     "name": "stdout",
     "output_type": "stream",
     "text": [
      "INFO:tensorflow:Reduce to /job:localhost/replica:0/task:0/device:CPU:0 then broadcast to ('/job:localhost/replica:0/task:0/device:CPU:0',).\n"
     ]
    },
    {
     "name": "stderr",
     "output_type": "stream",
     "text": [
      "INFO:tensorflow:Reduce to /job:localhost/replica:0/task:0/device:CPU:0 then broadcast to ('/job:localhost/replica:0/task:0/device:CPU:0',).\n"
     ]
    },
    {
     "name": "stdout",
     "output_type": "stream",
     "text": [
      "INFO:tensorflow:Reduce to /job:localhost/replica:0/task:0/device:CPU:0 then broadcast to ('/job:localhost/replica:0/task:0/device:CPU:0',).\n"
     ]
    },
    {
     "name": "stderr",
     "output_type": "stream",
     "text": [
      "INFO:tensorflow:Reduce to /job:localhost/replica:0/task:0/device:CPU:0 then broadcast to ('/job:localhost/replica:0/task:0/device:CPU:0',).\n"
     ]
    }
   ],
   "source": [
    "with strategy.scope():\n",
    "    model = tf.keras.Sequential([\n",
    "        Conv2D(filters = 16, kernel_size = (3, 3), activation='relu', input_shape = (28, 28, 1)),\n",
    "        BatchNormalization(),\n",
    "        Conv2D(filters = 16, kernel_size = (3, 3), activation='relu'),\n",
    "        BatchNormalization(),\n",
    "        MaxPool2D(strides=(2,2)),\n",
    "        Dropout(0.25),\n",
    "\n",
    "        Conv2D(filters = 32, kernel_size = (3, 3), activation='relu'),\n",
    "        BatchNormalization(),\n",
    "        Conv2D(filters = 32, kernel_size = (3, 3), activation='relu'),\n",
    "        BatchNormalization(),\n",
    "        MaxPool2D(strides=(2,2)),\n",
    "        Dropout(0.25),\n",
    "\n",
    "        Flatten(),\n",
    "        Dense(512, activation='relu'),\n",
    "        Dropout(0.25),\n",
    "        Dense(1024, activation='relu'),\n",
    "        Dropout(0.5),\n",
    "        Dense(10)\n",
    "    ])\n",
    "\n",
    "    model.compile(loss=tf.keras.losses.SparseCategoricalCrossentropy(from_logits=True),\n",
    "                optimizer=tf.keras.optimizers.Adam(learning_rate = 1e-4),\n",
    "                metrics=['accuracy'])"
   ]
  },
  {
   "cell_type": "code",
   "execution_count": 11,
   "metadata": {},
   "outputs": [
    {
     "name": "stdout",
     "output_type": "stream",
     "text": [
      "Model: \"sequential\"\n",
      "_________________________________________________________________\n",
      "Layer (type)                 Output Shape              Param #   \n",
      "=================================================================\n",
      "conv2d (Conv2D)              (None, 26, 26, 16)        160       \n",
      "_________________________________________________________________\n",
      "batch_normalization (BatchNo (None, 26, 26, 16)        64        \n",
      "_________________________________________________________________\n",
      "conv2d_1 (Conv2D)            (None, 24, 24, 16)        2320      \n",
      "_________________________________________________________________\n",
      "batch_normalization_1 (Batch (None, 24, 24, 16)        64        \n",
      "_________________________________________________________________\n",
      "max_pooling2d (MaxPooling2D) (None, 12, 12, 16)        0         \n",
      "_________________________________________________________________\n",
      "dropout (Dropout)            (None, 12, 12, 16)        0         \n",
      "_________________________________________________________________\n",
      "conv2d_2 (Conv2D)            (None, 10, 10, 32)        4640      \n",
      "_________________________________________________________________\n",
      "batch_normalization_2 (Batch (None, 10, 10, 32)        128       \n",
      "_________________________________________________________________\n",
      "conv2d_3 (Conv2D)            (None, 8, 8, 32)          9248      \n",
      "_________________________________________________________________\n",
      "batch_normalization_3 (Batch (None, 8, 8, 32)          128       \n",
      "_________________________________________________________________\n",
      "max_pooling2d_1 (MaxPooling2 (None, 4, 4, 32)          0         \n",
      "_________________________________________________________________\n",
      "dropout_1 (Dropout)          (None, 4, 4, 32)          0         \n",
      "_________________________________________________________________\n",
      "flatten (Flatten)            (None, 512)               0         \n",
      "_________________________________________________________________\n",
      "dense (Dense)                (None, 512)               262656    \n",
      "_________________________________________________________________\n",
      "dropout_2 (Dropout)          (None, 512)               0         \n",
      "_________________________________________________________________\n",
      "dense_1 (Dense)              (None, 1024)              525312    \n",
      "_________________________________________________________________\n",
      "dropout_3 (Dropout)          (None, 1024)              0         \n",
      "_________________________________________________________________\n",
      "dense_2 (Dense)              (None, 10)                10250     \n",
      "=================================================================\n",
      "Total params: 814,970\n",
      "Trainable params: 814,778\n",
      "Non-trainable params: 192\n",
      "_________________________________________________________________\n"
     ]
    }
   ],
   "source": [
    "model.summary()"
   ]
  },
  {
   "cell_type": "markdown",
   "metadata": {},
   "source": [
    "### Định nghĩa callbacks\n",
    "\n",
    "Callback là một công cụ mạnh mẽ để tùy chỉnh hành vi của mô hình Keras trong quá trình đào tạo, đánh giá hoặc suy luận. Các ví dụ bao gồm tf.keras.callbacks.TensorBoard nơi quá trình và kết quả đào tạo có thể được xuất và hiển thị bằng TensorBoard, hoặc tf.keras.callbacks.ModelCheckpoint nơi mô hình được lưu tự động trọng số trong quá trình đào tạo .... Callback là một class python có nghĩa là được phân lớp để cung cấp chức năng cụ thể, với một tập hợp các phương thức được gọi ở các giai đoạn đào tạo khác nhau."
   ]
  },
  {
   "cell_type": "code",
   "execution_count": 12,
   "metadata": {},
   "outputs": [],
   "source": [
    "# Xác định thư mục để lưu trữ các checkpoint\n",
    "checkpoint_dir = './training_checkpoints'\n",
    "checkpoint_prefix = os.path.join(checkpoint_dir, \"ckpt_{epoch}\")"
   ]
  },
  {
   "cell_type": "code",
   "execution_count": 13,
   "metadata": {},
   "outputs": [],
   "source": [
    "callbacks = [\n",
    "    tf.keras.callbacks.TensorBoard(log_dir='./logs'),\n",
    "    tf.keras.callbacks.ModelCheckpoint(filepath=checkpoint_prefix,\n",
    "                                       save_weights_only=True)\n",
    "]"
   ]
  },
  {
   "cell_type": "markdown",
   "metadata": {},
   "source": [
    "### Train and evaluate"
   ]
  },
  {
   "cell_type": "code",
   "execution_count": 14,
   "metadata": {
    "scrolled": true
   },
   "outputs": [
    {
     "name": "stdout",
     "output_type": "stream",
     "text": [
      "WARNING:tensorflow:Automatic model reloading for interrupted job was removed from the `ModelCheckpoint` callback in multi-worker mode, please use the `keras.callbacks.experimental.BackupAndRestore` callback instead. See this tutorial for details: https://www.tensorflow.org/tutorials/distribute/multi_worker_with_keras#backupandrestore_callback.\n"
     ]
    },
    {
     "name": "stderr",
     "output_type": "stream",
     "text": [
      "WARNING:tensorflow:Automatic model reloading for interrupted job was removed from the `ModelCheckpoint` callback in multi-worker mode, please use the `keras.callbacks.experimental.BackupAndRestore` callback instead. See this tutorial for details: https://www.tensorflow.org/tutorials/distribute/multi_worker_with_keras#backupandrestore_callback.\n"
     ]
    },
    {
     "name": "stdout",
     "output_type": "stream",
     "text": [
      "Epoch 1/50\n",
      "WARNING:tensorflow:From C:\\Users\\Admin\\anaconda3\\lib\\site-packages\\tensorflow\\python\\data\\ops\\multi_device_iterator_ops.py:606: get_next_as_optional (from tensorflow.python.data.ops.iterator_ops) is deprecated and will be removed in a future version.\n",
      "Instructions for updating:\n",
      "Use `tf.data.Iterator.get_next_as_optional()` instead.\n"
     ]
    },
    {
     "name": "stderr",
     "output_type": "stream",
     "text": [
      "WARNING:tensorflow:From C:\\Users\\Admin\\anaconda3\\lib\\site-packages\\tensorflow\\python\\data\\ops\\multi_device_iterator_ops.py:606: get_next_as_optional (from tensorflow.python.data.ops.iterator_ops) is deprecated and will be removed in a future version.\n",
      "Instructions for updating:\n",
      "Use `tf.data.Iterator.get_next_as_optional()` instead.\n"
     ]
    },
    {
     "name": "stdout",
     "output_type": "stream",
     "text": [
      "  1/844 [..............................] - ETA: 41:26 - loss: 3.4853 - accuracy: 0.0625WARNING:tensorflow:From C:\\Users\\Admin\\anaconda3\\lib\\site-packages\\tensorflow\\python\\ops\\summary_ops_v2.py:1371: stop (from tensorflow.python.eager.profiler) is deprecated and will be removed after 2020-07-01.\n",
      "Instructions for updating:\n",
      "use `tf.profiler.experimental.stop` instead.\n"
     ]
    },
    {
     "name": "stderr",
     "output_type": "stream",
     "text": [
      "WARNING:tensorflow:From C:\\Users\\Admin\\anaconda3\\lib\\site-packages\\tensorflow\\python\\ops\\summary_ops_v2.py:1371: stop (from tensorflow.python.eager.profiler) is deprecated and will be removed after 2020-07-01.\n",
      "Instructions for updating:\n",
      "use `tf.profiler.experimental.stop` instead.\n"
     ]
    },
    {
     "name": "stdout",
     "output_type": "stream",
     "text": [
      "  2/844 [..............................] - ETA: 22:05 - loss: 3.4345 - accuracy: 0.0703WARNING:tensorflow:Callbacks method `on_train_batch_end` is slow compared to the batch time (batch time: 0.0050s vs `on_train_batch_end` time: 0.1885s). Check your callbacks.\n"
     ]
    },
    {
     "name": "stderr",
     "output_type": "stream",
     "text": [
      "WARNING:tensorflow:Callbacks method `on_train_batch_end` is slow compared to the batch time (batch time: 0.0050s vs `on_train_batch_end` time: 0.1885s). Check your callbacks.\n"
     ]
    },
    {
     "name": "stdout",
     "output_type": "stream",
     "text": [
      "844/844 [==============================] - 7s 9ms/step - loss: 1.3492 - accuracy: 0.5392 - val_loss: 0.4995 - val_accuracy: 0.8170\n",
      "Epoch 2/50\n",
      "844/844 [==============================] - 4s 4ms/step - loss: 0.5990 - accuracy: 0.7779 - val_loss: 0.4079 - val_accuracy: 0.8528\n",
      "Epoch 3/50\n",
      "844/844 [==============================] - 4s 4ms/step - loss: 0.5034 - accuracy: 0.8148 - val_loss: 0.3637 - val_accuracy: 0.8683\n",
      "Epoch 4/50\n",
      "844/844 [==============================] - 4s 4ms/step - loss: 0.4390 - accuracy: 0.8384 - val_loss: 0.3324 - val_accuracy: 0.8792\n",
      "Epoch 5/50\n",
      "844/844 [==============================] - 4s 4ms/step - loss: 0.4062 - accuracy: 0.8500 - val_loss: 0.3067 - val_accuracy: 0.8908\n",
      "Epoch 6/50\n",
      "844/844 [==============================] - 4s 4ms/step - loss: 0.3768 - accuracy: 0.8628 - val_loss: 0.2940 - val_accuracy: 0.8973\n",
      "Epoch 7/50\n",
      "844/844 [==============================] - 3s 4ms/step - loss: 0.3542 - accuracy: 0.8704 - val_loss: 0.2861 - val_accuracy: 0.9002\n",
      "Epoch 8/50\n",
      "844/844 [==============================] - 3s 4ms/step - loss: 0.3392 - accuracy: 0.8739 - val_loss: 0.2835 - val_accuracy: 0.8997\n",
      "Epoch 9/50\n",
      "844/844 [==============================] - 3s 4ms/step - loss: 0.3225 - accuracy: 0.8811 - val_loss: 0.2632 - val_accuracy: 0.9078\n",
      "Epoch 10/50\n",
      "844/844 [==============================] - 3s 4ms/step - loss: 0.3148 - accuracy: 0.8862 - val_loss: 0.2573 - val_accuracy: 0.9108\n",
      "Epoch 11/50\n",
      "844/844 [==============================] - 4s 4ms/step - loss: 0.3036 - accuracy: 0.8880 - val_loss: 0.2529 - val_accuracy: 0.9123\n",
      "Epoch 12/50\n",
      "844/844 [==============================] - 4s 4ms/step - loss: 0.2904 - accuracy: 0.8918 - val_loss: 0.2490 - val_accuracy: 0.9118\n",
      "Epoch 13/50\n",
      "844/844 [==============================] - 3s 4ms/step - loss: 0.2798 - accuracy: 0.8966 - val_loss: 0.2427 - val_accuracy: 0.9138\n",
      "Epoch 14/50\n",
      "844/844 [==============================] - 3s 4ms/step - loss: 0.2807 - accuracy: 0.8955 - val_loss: 0.2466 - val_accuracy: 0.9095\n",
      "Epoch 15/50\n",
      "844/844 [==============================] - 3s 4ms/step - loss: 0.2753 - accuracy: 0.8969 - val_loss: 0.2300 - val_accuracy: 0.9203\n",
      "Epoch 16/50\n",
      "844/844 [==============================] - 3s 4ms/step - loss: 0.2646 - accuracy: 0.8998 - val_loss: 0.2422 - val_accuracy: 0.9137\n",
      "Epoch 17/50\n",
      "844/844 [==============================] - 3s 4ms/step - loss: 0.2566 - accuracy: 0.9042 - val_loss: 0.2258 - val_accuracy: 0.9213\n",
      "Epoch 18/50\n",
      "844/844 [==============================] - 4s 4ms/step - loss: 0.2537 - accuracy: 0.9059 - val_loss: 0.2262 - val_accuracy: 0.9187\n",
      "Epoch 19/50\n",
      "844/844 [==============================] - 4s 4ms/step - loss: 0.2443 - accuracy: 0.9095 - val_loss: 0.2243 - val_accuracy: 0.9207\n",
      "Epoch 20/50\n",
      "844/844 [==============================] - 4s 4ms/step - loss: 0.2450 - accuracy: 0.9092 - val_loss: 0.2230 - val_accuracy: 0.9237\n",
      "Epoch 21/50\n",
      "844/844 [==============================] - 4s 4ms/step - loss: 0.2387 - accuracy: 0.9114 - val_loss: 0.2185 - val_accuracy: 0.9238\n",
      "Epoch 22/50\n",
      "844/844 [==============================] - 4s 4ms/step - loss: 0.2335 - accuracy: 0.9110 - val_loss: 0.2209 - val_accuracy: 0.9248\n",
      "Epoch 23/50\n",
      "844/844 [==============================] - 4s 4ms/step - loss: 0.2278 - accuracy: 0.9133 - val_loss: 0.2148 - val_accuracy: 0.9252\n",
      "Epoch 24/50\n",
      "844/844 [==============================] - 4s 4ms/step - loss: 0.2240 - accuracy: 0.9154 - val_loss: 0.2141 - val_accuracy: 0.9260\n",
      "Epoch 25/50\n",
      "844/844 [==============================] - 4s 4ms/step - loss: 0.2227 - accuracy: 0.9158 - val_loss: 0.2247 - val_accuracy: 0.9235\n",
      "Epoch 26/50\n",
      "844/844 [==============================] - 4s 4ms/step - loss: 0.2170 - accuracy: 0.9179 - val_loss: 0.2215 - val_accuracy: 0.9247\n",
      "Epoch 27/50\n",
      "844/844 [==============================] - 4s 4ms/step - loss: 0.2137 - accuracy: 0.9197 - val_loss: 0.2071 - val_accuracy: 0.9278\n",
      "Epoch 28/50\n",
      "844/844 [==============================] - 4s 4ms/step - loss: 0.2107 - accuracy: 0.9197 - val_loss: 0.2059 - val_accuracy: 0.9288\n",
      "Epoch 29/50\n",
      "844/844 [==============================] - 4s 4ms/step - loss: 0.2104 - accuracy: 0.9196 - val_loss: 0.2115 - val_accuracy: 0.9250\n",
      "Epoch 30/50\n",
      "844/844 [==============================] - 4s 4ms/step - loss: 0.2047 - accuracy: 0.9227 - val_loss: 0.2073 - val_accuracy: 0.9292\n",
      "Epoch 31/50\n",
      "844/844 [==============================] - 4s 4ms/step - loss: 0.2043 - accuracy: 0.9238 - val_loss: 0.2129 - val_accuracy: 0.9295\n",
      "Epoch 32/50\n",
      "844/844 [==============================] - 4s 4ms/step - loss: 0.2020 - accuracy: 0.9235 - val_loss: 0.2052 - val_accuracy: 0.9298\n",
      "Epoch 33/50\n",
      "844/844 [==============================] - 4s 4ms/step - loss: 0.1975 - accuracy: 0.9265 - val_loss: 0.2079 - val_accuracy: 0.9307\n",
      "Epoch 34/50\n",
      "844/844 [==============================] - 4s 4ms/step - loss: 0.1944 - accuracy: 0.9270 - val_loss: 0.2154 - val_accuracy: 0.9225\n",
      "Epoch 35/50\n",
      "844/844 [==============================] - 4s 4ms/step - loss: 0.1903 - accuracy: 0.9269 - val_loss: 0.2032 - val_accuracy: 0.9320\n",
      "Epoch 36/50\n",
      "844/844 [==============================] - 4s 4ms/step - loss: 0.1876 - accuracy: 0.9290 - val_loss: 0.2024 - val_accuracy: 0.9312\n",
      "Epoch 37/50\n",
      "844/844 [==============================] - 4s 4ms/step - loss: 0.1912 - accuracy: 0.9276 - val_loss: 0.2102 - val_accuracy: 0.9290\n",
      "Epoch 38/50\n",
      "844/844 [==============================] - 4s 4ms/step - loss: 0.1811 - accuracy: 0.9308 - val_loss: 0.2011 - val_accuracy: 0.9323\n",
      "Epoch 39/50\n",
      "844/844 [==============================] - 4s 4ms/step - loss: 0.1830 - accuracy: 0.9310 - val_loss: 0.2072 - val_accuracy: 0.9283\n",
      "Epoch 40/50\n",
      "844/844 [==============================] - 4s 4ms/step - loss: 0.1845 - accuracy: 0.9292 - val_loss: 0.2093 - val_accuracy: 0.9312\n",
      "Epoch 41/50\n",
      "844/844 [==============================] - 3s 4ms/step - loss: 0.1800 - accuracy: 0.9299 - val_loss: 0.1983 - val_accuracy: 0.9332\n",
      "Epoch 42/50\n",
      "844/844 [==============================] - 4s 4ms/step - loss: 0.1757 - accuracy: 0.9336 - val_loss: 0.2084 - val_accuracy: 0.9277\n",
      "Epoch 43/50\n",
      "844/844 [==============================] - 4s 4ms/step - loss: 0.1742 - accuracy: 0.9350 - val_loss: 0.1952 - val_accuracy: 0.9343\n",
      "Epoch 44/50\n",
      "844/844 [==============================] - 4s 4ms/step - loss: 0.1670 - accuracy: 0.9361 - val_loss: 0.1980 - val_accuracy: 0.9347\n",
      "Epoch 45/50\n",
      "844/844 [==============================] - 4s 4ms/step - loss: 0.1708 - accuracy: 0.9353 - val_loss: 0.2059 - val_accuracy: 0.9305\n",
      "Epoch 46/50\n",
      "844/844 [==============================] - 4s 4ms/step - loss: 0.1690 - accuracy: 0.9351 - val_loss: 0.1986 - val_accuracy: 0.9308\n",
      "Epoch 47/50\n",
      "844/844 [==============================] - 4s 4ms/step - loss: 0.1648 - accuracy: 0.9379 - val_loss: 0.1982 - val_accuracy: 0.9330\n",
      "Epoch 48/50\n",
      "844/844 [==============================] - 4s 4ms/step - loss: 0.1648 - accuracy: 0.9369 - val_loss: 0.1930 - val_accuracy: 0.9327\n",
      "Epoch 49/50\n",
      "844/844 [==============================] - 4s 4ms/step - loss: 0.1624 - accuracy: 0.9391 - val_loss: 0.1969 - val_accuracy: 0.9345\n",
      "Epoch 50/50\n",
      "844/844 [==============================] - 4s 4ms/step - loss: 0.1604 - accuracy: 0.9396 - val_loss: 0.1960 - val_accuracy: 0.9343\n"
     ]
    },
    {
     "data": {
      "text/plain": [
       "<tensorflow.python.keras.callbacks.History at 0x2502f2b9788>"
      ]
     },
     "execution_count": 14,
     "metadata": {},
     "output_type": "execute_result"
    }
   ],
   "source": [
    "model.fit(train_dataset, epochs=50, callbacks=callbacks, validation_data= eval_dataset)"
   ]
  },
  {
   "cell_type": "markdown",
   "metadata": {},
   "source": [
    "Sau khi train xong, trên command line ta nhập: tensorboard --logdir logs để quan sát quá trình đào tạo của model\n",
    "\n",
    "<img src=\"board.png\" style=\"width:1000px;height:250;\">"
   ]
  },
  {
   "cell_type": "markdown",
   "metadata": {},
   "source": [
    "Tiếp theo hãy load checkpoint mới nhất và đánh giá trên dữ liệu thử nghiệm."
   ]
  },
  {
   "cell_type": "code",
   "execution_count": 15,
   "metadata": {},
   "outputs": [
    {
     "name": "stdout",
     "output_type": "stream",
     "text": [
      "157/157 [==============================] - 1s 3ms/step - loss: 0.2190 - accuracy: 0.9252\n",
      "test loss: 0.21900200843811035, test Accuracy: 0.9251999855041504\n"
     ]
    }
   ],
   "source": [
    "model.load_weights(tf.train.latest_checkpoint(checkpoint_dir))\n",
    "\n",
    "test_loss, test_acc = model.evaluate(test_dataset)\n",
    "\n",
    "print('test loss: {}, test Accuracy: {}'.format(test_loss, test_acc))"
   ]
  },
  {
   "cell_type": "markdown",
   "metadata": {},
   "source": [
    "### SavedModel"
   ]
  },
  {
   "cell_type": "code",
   "execution_count": 16,
   "metadata": {},
   "outputs": [],
   "source": [
    "path = 'saved_model/'"
   ]
  },
  {
   "cell_type": "code",
   "execution_count": 17,
   "metadata": {},
   "outputs": [
    {
     "name": "stdout",
     "output_type": "stream",
     "text": [
      "WARNING:tensorflow:From C:\\Users\\Admin\\anaconda3\\lib\\site-packages\\tensorflow\\python\\training\\tracking\\tracking.py:111: Model.state_updates (from tensorflow.python.keras.engine.training) is deprecated and will be removed in a future version.\n",
      "Instructions for updating:\n",
      "This property should not be used in TensorFlow 2.0, as updates are applied automatically.\n"
     ]
    },
    {
     "name": "stderr",
     "output_type": "stream",
     "text": [
      "WARNING:tensorflow:From C:\\Users\\Admin\\anaconda3\\lib\\site-packages\\tensorflow\\python\\training\\tracking\\tracking.py:111: Model.state_updates (from tensorflow.python.keras.engine.training) is deprecated and will be removed in a future version.\n",
      "Instructions for updating:\n",
      "This property should not be used in TensorFlow 2.0, as updates are applied automatically.\n"
     ]
    },
    {
     "name": "stdout",
     "output_type": "stream",
     "text": [
      "WARNING:tensorflow:From C:\\Users\\Admin\\anaconda3\\lib\\site-packages\\tensorflow\\python\\training\\tracking\\tracking.py:111: Layer.updates (from tensorflow.python.keras.engine.base_layer) is deprecated and will be removed in a future version.\n",
      "Instructions for updating:\n",
      "This property should not be used in TensorFlow 2.0, as updates are applied automatically.\n"
     ]
    },
    {
     "name": "stderr",
     "output_type": "stream",
     "text": [
      "WARNING:tensorflow:From C:\\Users\\Admin\\anaconda3\\lib\\site-packages\\tensorflow\\python\\training\\tracking\\tracking.py:111: Layer.updates (from tensorflow.python.keras.engine.base_layer) is deprecated and will be removed in a future version.\n",
      "Instructions for updating:\n",
      "This property should not be used in TensorFlow 2.0, as updates are applied automatically.\n"
     ]
    },
    {
     "name": "stdout",
     "output_type": "stream",
     "text": [
      "INFO:tensorflow:Assets written to: saved_model/assets\n"
     ]
    },
    {
     "name": "stderr",
     "output_type": "stream",
     "text": [
      "INFO:tensorflow:Assets written to: saved_model/assets\n"
     ]
    }
   ],
   "source": [
    "model.save(path, save_format='tf')"
   ]
  }
 ],
 "metadata": {
  "kernelspec": {
   "display_name": "Python 3",
   "language": "python",
   "name": "python3"
  },
  "language_info": {
   "codemirror_mode": {
    "name": "ipython",
    "version": 3
   },
   "file_extension": ".py",
   "mimetype": "text/x-python",
   "name": "python",
   "nbconvert_exporter": "python",
   "pygments_lexer": "ipython3",
   "version": "3.7.6"
  }
 },
 "nbformat": 4,
 "nbformat_minor": 4
}
