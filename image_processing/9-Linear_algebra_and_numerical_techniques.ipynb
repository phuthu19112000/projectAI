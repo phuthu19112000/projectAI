{
 "cells": [
  {
   "attachments": {},
   "cell_type": "markdown",
   "metadata": {},
   "source": [
    "### A.1 Matrix decompositions\n",
    "#### A.1.1 Singular value decomposition (SVD)\n",
    "- One of the most useful decompositions in matrix algebra is the singular value decomposition (SVD), which states that any real-valued m × n matrix A can be written as:\n",
    "    ![](./images/i16.png)\n",
    "\n",
    "- where p = min(m,n). The matrices U and V are orthonormal"
   ]
  },
  {
   "attachments": {},
   "cell_type": "markdown",
   "metadata": {},
   "source": [
    "### C.2 Software\n",
    "#### Chapter 3: Image processing\n",
    "- A more recently developed computer vision library is [MMCV](https://openmmlab.com/codebase#MMCV)\n",
    "- Another language that supports array-level functional programming is [Halide](https://halide-lang.org)\n",
    "- For wavelets, [PyWavelets](https://pywavelets.readthedocs.io) has a nice extensive set\n",
    "of variants.\n",
    "\n",
    "#### Chapter 5:  Deep learning\n",
    "- [the imgaug library](https://github.com/aleju/imgaug) provides a much wider range of augmentation possibilities.\n",
    "- [VISSL](https://vissl.ai) is an extendable self-supervised learning framework written in PyTorch\n",
    "- [The PyTorch3D library](https://github.com/facebookresearch/pytorch3d) provides representations and functions to process 3D volumes and 3D meshes using deep neural networks.\n",
    "\n",
    "#### Chapter 6: Recognition\n",
    "- For large-scale similarity search and clustering, [the GPU-enabled Faiss library](https://github.com/facebookresearch/faiss) can scale to very large datasets\n",
    "- [Classy Vision](https://classyvision.ai), [MMClassification](https://openmmlab.com) for training and fine tuning image and video classification models\n",
    "- Open-source frameworks for training and fine-tuning object detectors include [PyTorch’s Detectron2](https://github.com/facebookresearch/detectron2) and [OpenMMLab’s MMDetection](https://openmmlab.com/codebase#MMDetection)\n",
    "\n",
    "#### Chapter 7: Feature detection and matching\n",
    "- Implementations of many of the “classic” feature detectors and descriptors can be found in the OpenCV Features2D class and sub-classes.\n",
    "\n",
    "#### Chapter 9: Motion estimation\n",
    "- OpenCV implements a number of widely used camera calibration and pose estimation algorithm in the calib3d module\n",
    "- as does [OpenGV](https://laurentkneip.github.io/opengv) (Kneip and Furgale 2014) and [OpenMVG](https://github.com/openMVG/openMVG) "
   ]
  },
  {
   "cell_type": "markdown",
   "metadata": {},
   "source": []
  },
  {
   "cell_type": "markdown",
   "metadata": {},
   "source": []
  }
 ],
 "metadata": {
  "language_info": {
   "name": "python"
  },
  "orig_nbformat": 4
 },
 "nbformat": 4,
 "nbformat_minor": 2
}
