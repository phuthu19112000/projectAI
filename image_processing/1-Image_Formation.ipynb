{
 "cells": [
  {
   "attachments": {},
   "cell_type": "markdown",
   "metadata": {},
   "source": [
    "### Geometric primitives and transformations\n",
    "- 2D transformations:\n",
    "    - Translation\n",
    "    - Rotation + translation\n",
    "    - Scaled rotation\n",
    "    - Affine\n",
    "    - Projective\n",
    "    - Stretch/squash\n",
    "    - Planar surface flow\n",
    "    - Bilinear interpolant\n",
    "- 3D transformations\n",
    "    - Translation\n",
    "    - Rotation + translation\n",
    "    - Scaled rotation\n",
    "    - Affine\n",
    "    - Projective\n",
    "- 3D to 2D projections: Can do this using a linear 3D to 2D projection matrix. The simplest model is orthography. The more commonly used model is perspective, since this more accurately models the behavior of real cameras.\n",
    "    - Orthography and para-perspective: An orthographic projection simply drops the z component of the three-dimensional coordinate p to obtain the 2D point x\n",
    "    - Perspective: The most commonly used projection in computer graphics and computer vision is true 3D perspective. Here, points are projected onto the image plane by dividing them by their z component\n",
    "    - Mapping from one camera to another\n",
    "    \n",
    "        ![](./images/i0.png)\n",
    "\n",
    "    \n",
    "### The digital camera\n",
    "![](./images/i1.png)"
   ]
  },
  {
   "cell_type": "markdown",
   "metadata": {},
   "source": []
  }
 ],
 "metadata": {
  "kernelspec": {
   "display_name": "base",
   "language": "python",
   "name": "python3"
  },
  "language_info": {
   "name": "python",
   "version": "3.7.6 (default, Jan  8 2020, 20:23:39) [MSC v.1916 64 bit (AMD64)]"
  },
  "orig_nbformat": 4,
  "vscode": {
   "interpreter": {
    "hash": "2043299c89c8cd0b4d1a6f5cf4529bd58e6a4e0fe3181a25e0d328c821cdc5c5"
   }
  }
 },
 "nbformat": 4,
 "nbformat_minor": 2
}
