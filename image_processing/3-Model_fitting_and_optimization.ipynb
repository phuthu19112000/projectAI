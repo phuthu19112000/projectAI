{
 "cells": [
  {
   "attachments": {},
   "cell_type": "markdown",
   "metadata": {},
   "source": [
    "- Variational methods and regularization\n",
    "    - Application: Interactive colorization\n",
    "        - A good use of edge-aware interpolation techniques is in colorization, i.e., manually adding colors to a “black and white” (grayscale) image. \n",
    "        - In most applications of colorization, the user draws some scribbles indicating the desired colors in certain regions and the system interpolates the specified chrominance (u; v) values to the whole image, which are then re-combined with the input luminance channel to produce a final colorized image\n",
    "\n",
    "- Markov random fields\n",
    "    - Application: Interactive segmentation\n",
    "        - The goal of image segmentation algorithms is to group pixels that have similar appearance (statistics) and to have the boundaries between pixels in different regions be of short length and across visible discontinuities.\n",
    "\n",
    "        - The GrabCut system iteratively re-estimates the region statistics, which are modeled as a mixtures of Gaussians in color space."
   ]
  },
  {
   "cell_type": "markdown",
   "metadata": {},
   "source": []
  }
 ],
 "metadata": {
  "kernelspec": {
   "display_name": "base",
   "language": "python",
   "name": "python3"
  },
  "language_info": {
   "name": "python",
   "version": "3.7.6 (default, Jan  8 2020, 20:23:39) [MSC v.1916 64 bit (AMD64)]"
  },
  "orig_nbformat": 4,
  "vscode": {
   "interpreter": {
    "hash": "2043299c89c8cd0b4d1a6f5cf4529bd58e6a4e0fe3181a25e0d328c821cdc5c5"
   }
  }
 },
 "nbformat": 4,
 "nbformat_minor": 2
}
