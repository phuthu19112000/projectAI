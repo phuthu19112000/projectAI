{
 "cells": [
  {
   "cell_type": "markdown",
   "metadata": {},
   "source": [
    "# Neural Machine Translation\n",
    "\n",
    "* Bài này ta sẽ xây dựng mô hình Dịch máy để dịch ngày tháng mà con người có thể đọc được (\"25th of June, 2009\") thành ngày tháng mà máy có thể đọc được (\"2009-06-25\"). \n",
    "* Ta sẽ thực hiện điều này bằng cách sử dụng mô hình attention, một trong những mô hình chuỗi phức tạp nhất."
   ]
  },
  {
   "cell_type": "code",
   "execution_count": 2,
   "metadata": {},
   "outputs": [
    {
     "name": "stderr",
     "output_type": "stream",
     "text": [
      "Using TensorFlow backend.\n"
     ]
    }
   ],
   "source": [
    "from keras.layers import Bidirectional, Concatenate, Permute, Dot, Input, LSTM, Multiply\n",
    "from keras.layers import RepeatVector, Dense, Activation, Lambda\n",
    "from keras.optimizers import Adam\n",
    "from keras.utils import to_categorical\n",
    "from keras.models import load_model, Model\n",
    "import keras.backend as K\n",
    "import numpy as np\n",
    "\n",
    "from faker import Faker\n",
    "import random\n",
    "from tqdm import tqdm\n",
    "from babel.dates import format_date\n",
    "from nmt_utils import *\n",
    "import matplotlib.pyplot as plt\n",
    "%matplotlib inline"
   ]
  },
  {
   "cell_type": "markdown",
   "metadata": {},
   "source": [
    "## 1 - Dịch ngày tháng con người có thể đọc được thành ngày tháng mà máy có thể đọc được\n",
    "\n",
    "* Mô hình ta sẽ xây dựng ở đây có thể được sử dụng để dịch từ ngôn ngữ này sang ngôn ngữ khác, chẳng hạn như dịch từ tiếng Anh sang tiếng Việt.\n",
    "* Tuy nhiên, việc dịch ngôn ngữ yêu cầu bộ dữ liệu lớn và thường mất nhiều ngày đào tạo và cần số lượng GPU lớn.\n",
    "* Thay vào đó bài toán này ta sẽ thực hiện tác vụ \"dịch ngày\" đơn giản hơn.\n",
    "* Mạng sẽ nhập ngày tháng được viết bằng nhiều định dạng có thể có (ví dụ: \"August 29, 1958\", \"30/03/1968\", \"June 24, 1987\")\n",
    "* Mạng sẽ dịch chúng thành các ngày chuẩn hóa, máy có thể đọc được (ví dụ: \"1958-08-29\", \"1968-03-30\", \"1987-06-24\").\n",
    "* Chúng ta sẽ yêu cầu mạng tìm hiểu để xuất ngày ở định dạng phổ biến mà máy có thể đọc được là YYYY-MM-DD."
   ]
  },
  {
   "cell_type": "markdown",
   "metadata": {},
   "source": [
    "### 1.1 - Dataset\n",
    "\n",
    "Ta sẽ đào tạo mô hình trên tập dữ liệu gồm 10.000 ví dụ ngày tháng con người có thể đọc được và các ngày tháng tương đương, được chuẩn hóa cho máy có thể đọc được."
   ]
  },
  {
   "cell_type": "code",
   "execution_count": 3,
   "metadata": {},
   "outputs": [
    {
     "name": "stderr",
     "output_type": "stream",
     "text": [
      "100%|██████████| 10000/10000 [00:00<00:00, 17951.89it/s]\n"
     ]
    }
   ],
   "source": [
    "m = 10000\n",
    "dataset, human_vocab, machine_vocab, inv_machine_vocab = load_dataset(m)"
   ]
  },
  {
   "cell_type": "code",
   "execution_count": 5,
   "metadata": {},
   "outputs": [
    {
     "data": {
      "text/plain": [
       "[('9 may 1998', '1998-05-09'),\n",
       " ('10.11.19', '2019-11-10'),\n",
       " ('9/10/70', '1970-09-10'),\n",
       " ('saturday april 28 1990', '1990-04-28'),\n",
       " ('thursday january 26 1995', '1995-01-26'),\n",
       " ('monday march 7 1983', '1983-03-07'),\n",
       " ('sunday may 22 1988', '1988-05-22'),\n",
       " ('08 jul 2008', '2008-07-08'),\n",
       " ('8 sep 1999', '1999-09-08'),\n",
       " ('thursday january 1 1981', '1981-01-01'),\n",
       " ('monday may 22 1995', '1995-05-22'),\n",
       " ('friday june 16 1978', '1978-06-16'),\n",
       " ('18 jun 1999', '1999-06-18'),\n",
       " ('thursday october 8 1987', '1987-10-08'),\n",
       " ('1 april 2008', '2008-04-01')]"
      ]
     },
     "execution_count": 5,
     "metadata": {},
     "output_type": "execute_result"
    }
   ],
   "source": [
    "dataset[:15]"
   ]
  },
  {
   "cell_type": "code",
   "execution_count": 6,
   "metadata": {},
   "outputs": [
    {
     "data": {
      "text/plain": [
       "{' ': 0,\n",
       " '.': 1,\n",
       " '/': 2,\n",
       " '0': 3,\n",
       " '1': 4,\n",
       " '2': 5,\n",
       " '3': 6,\n",
       " '4': 7,\n",
       " '5': 8,\n",
       " '6': 9,\n",
       " '7': 10,\n",
       " '8': 11,\n",
       " '9': 12,\n",
       " '<pad>': 36,\n",
       " '<unk>': 35,\n",
       " 'a': 13,\n",
       " 'b': 14,\n",
       " 'c': 15,\n",
       " 'd': 16,\n",
       " 'e': 17,\n",
       " 'f': 18,\n",
       " 'g': 19,\n",
       " 'h': 20,\n",
       " 'i': 21,\n",
       " 'j': 22,\n",
       " 'l': 23,\n",
       " 'm': 24,\n",
       " 'n': 25,\n",
       " 'o': 26,\n",
       " 'p': 27,\n",
       " 'r': 28,\n",
       " 's': 29,\n",
       " 't': 30,\n",
       " 'u': 31,\n",
       " 'v': 32,\n",
       " 'w': 33,\n",
       " 'y': 34}"
      ]
     },
     "execution_count": 6,
     "metadata": {},
     "output_type": "execute_result"
    }
   ],
   "source": [
    "human_vocab"
   ]
  },
  {
   "cell_type": "code",
   "execution_count": 7,
   "metadata": {},
   "outputs": [
    {
     "data": {
      "text/plain": [
       "{'-': 0,\n",
       " '0': 1,\n",
       " '1': 2,\n",
       " '2': 3,\n",
       " '3': 4,\n",
       " '4': 5,\n",
       " '5': 6,\n",
       " '6': 7,\n",
       " '7': 8,\n",
       " '8': 9,\n",
       " '9': 10}"
      ]
     },
     "execution_count": 7,
     "metadata": {},
     "output_type": "execute_result"
    }
   ],
   "source": [
    "machine_vocab"
   ]
  },
  {
   "cell_type": "code",
   "execution_count": 8,
   "metadata": {},
   "outputs": [
    {
     "data": {
      "text/plain": [
       "{0: '-',\n",
       " 1: '0',\n",
       " 2: '1',\n",
       " 3: '2',\n",
       " 4: '3',\n",
       " 5: '4',\n",
       " 6: '5',\n",
       " 7: '6',\n",
       " 8: '7',\n",
       " 9: '8',\n",
       " 10: '9'}"
      ]
     },
     "execution_count": 8,
     "metadata": {},
     "output_type": "execute_result"
    }
   ],
   "source": [
    "inv_machine_vocab"
   ]
  },
  {
   "cell_type": "markdown",
   "metadata": {},
   "source": [
    "- `dataset`: danh sách các bộ giá trị (ngày con người đọc được, ngày máy đọc được).\n",
    "- `human_vocab`: từ điển python ánh xạ tất cả các ký tự được sử dụng trong ngày tháng mà con người có thể đọc được thành một chỉ mục có giá trị số nguyên.\n",
    "- `machine_vocab`: từ điển python ánh xạ tất cả các ký tự được sử dụng trong ngày tháng có thể đọc được của máy thành một chỉ mục có giá trị số nguyên.\n",
    "    - **Chú ý**: Các chỉ số này không nhất thiết phải nhất quán với `human_vocab`. \n",
    "- `inv_machine_vocab`: từ điển nghịch đảo của `machine_vocab`, ánh xạ từ các chỉ số trở lại ký tự.\n",
    "\n",
    "Hãy xử lý trước dữ liệu và ánh xạ dữ liệu văn bản thô thành các giá trị chỉ mục.\n",
    "- Ta sẽ đặt Tx=30 \n",
    "    - Giả định Tx là độ dài tối đa của ngày con người có thể đọc được.\n",
    "    - Nếu ta nhận được một đầu vào dài hơn, ta sẽ phải cắt bớt nó.\n",
    "- Ta sẽ đặt Ty=10\n",
    "    - \"YYYY-MM-DD\""
   ]
  },
  {
   "cell_type": "code",
   "execution_count": 9,
   "metadata": {},
   "outputs": [
    {
     "name": "stdout",
     "output_type": "stream",
     "text": [
      "X.shape: (10000, 30)\n",
      "Y.shape: (10000, 10)\n",
      "Xoh.shape: (10000, 30, 37)\n",
      "Yoh.shape: (10000, 10, 11)\n"
     ]
    }
   ],
   "source": [
    "Tx = 30\n",
    "Ty = 10\n",
    "X, Y, Xoh, Yoh = preprocess_data(dataset, human_vocab, machine_vocab, Tx, Ty)\n",
    "\n",
    "print(\"X.shape:\", X.shape)\n",
    "print(\"Y.shape:\", Y.shape)\n",
    "print(\"Xoh.shape:\", Xoh.shape)\n",
    "print(\"Yoh.shape:\", Yoh.shape)"
   ]
  },
  {
   "cell_type": "markdown",
   "metadata": {},
   "source": [
    "- `X`: data đã xử lý của ngày tháng con người có thể đọc được trong tập huấn luyện.\n",
    "    - Mỗi ký tự trong X được thay thế bằng một chỉ mục (số nguyên) được ánh xạ tới ký tự bằng cách sử dụng `human_vocab`. \n",
    "    - Mỗi ngày đều được đệm để đảm bảo độ dài $T_x$ sử dụng một ký tự đặc biệt (< pad >). \n",
    "    - `X.shape = (m, Tx)` với m là số lượng ví dụ đào tạo trong một batch.\n",
    "- `Y`: một phiên bản đã xử lý của máy có thể đọc được ngày tháng trong tập huấn luyện.\n",
    "    - Mỗi ký tự được thay thế bằng chỉ số (số nguyên) mà nó được ánh xạ tới `machine_vocab`. \n",
    "    - `Y.shape = (m, Ty)`. \n",
    "- `Xoh`: one-hot vector của `X`\n",
    "    - Mỗi chỉ mục trong `X` được chuyển đổi thành biểu diễn one-hot\n",
    "    - `Xoh.shape = (m, Tx, len(human_vocab))`\n",
    "- `Yoh`: one-hot vector của `Y`\n",
    "    - Mỗi chỉ mục trong `Y` được chuyển đổi thành biểu diễn one-hot.\n",
    "    - `Yoh.shape = (m, Tx, len(machine_vocab))`. \n",
    "    - `len(machine_vocab) = 11` vì có 10 chữ số (0 đến 9) và ký hiệu `-`."
   ]
  },
  {
   "cell_type": "markdown",
   "metadata": {},
   "source": [
    "* Hãy cũng xem xét một số ví dụ đào tạo tiền xử lý."
   ]
  },
  {
   "cell_type": "code",
   "execution_count": 10,
   "metadata": {},
   "outputs": [
    {
     "name": "stdout",
     "output_type": "stream",
     "text": [
      "Source date: 9 may 1998\n",
      "Target date: 1998-05-09\n",
      "\n",
      "Source sau khi preprocessing : [12  0 24 13 34  0  4 12 12 11 36 36 36 36 36 36 36 36 36 36 36 36 36 36 36\n",
      " 36 36 36 36 36]\n",
      "Target sau khi preprocessing : [ 2 10 10  9  0  1  6  0  1 10]\n",
      "\n",
      "Source sau khi preprocessing (one-hot): [[ 0.  0.  0. ...,  0.  0.  0.]\n",
      " [ 1.  0.  0. ...,  0.  0.  0.]\n",
      " [ 0.  0.  0. ...,  0.  0.  0.]\n",
      " ..., \n",
      " [ 0.  0.  0. ...,  0.  0.  1.]\n",
      " [ 0.  0.  0. ...,  0.  0.  1.]\n",
      " [ 0.  0.  0. ...,  0.  0.  1.]]\n",
      "Target sau khi preprocessing (one-hot): [[ 0.  0.  1.  0.  0.  0.  0.  0.  0.  0.  0.]\n",
      " [ 0.  0.  0.  0.  0.  0.  0.  0.  0.  0.  1.]\n",
      " [ 0.  0.  0.  0.  0.  0.  0.  0.  0.  0.  1.]\n",
      " [ 0.  0.  0.  0.  0.  0.  0.  0.  0.  1.  0.]\n",
      " [ 1.  0.  0.  0.  0.  0.  0.  0.  0.  0.  0.]\n",
      " [ 0.  1.  0.  0.  0.  0.  0.  0.  0.  0.  0.]\n",
      " [ 0.  0.  0.  0.  0.  0.  1.  0.  0.  0.  0.]\n",
      " [ 1.  0.  0.  0.  0.  0.  0.  0.  0.  0.  0.]\n",
      " [ 0.  1.  0.  0.  0.  0.  0.  0.  0.  0.  0.]\n",
      " [ 0.  0.  0.  0.  0.  0.  0.  0.  0.  0.  1.]]\n"
     ]
    }
   ],
   "source": [
    "index = 0\n",
    "print(\"Source date:\", dataset[index][0])\n",
    "print(\"Target date:\", dataset[index][1])\n",
    "print()\n",
    "print(\"Source sau khi preprocessing :\", X[index])\n",
    "print(\"Target sau khi preprocessing :\", Y[index])\n",
    "print()\n",
    "print(\"Source sau khi preprocessing (one-hot):\", Xoh[index])\n",
    "print(\"Target sau khi preprocessing (one-hot):\", Yoh[index])"
   ]
  },
  {
   "cell_type": "markdown",
   "metadata": {},
   "source": [
    "## 2 - Neural machine translation với attention\n",
    "\n",
    "* Nếu ta phải dịch một đoạn sách từ tiếng Việt sang tiếng Anh, ta sẽ không đọc hết cả đoạn văn rồi mới dịch.\n",
    "* Trong quá trình dịch, ta sẽ đọc  và tập trung vào các phần của đoạn tiếng Việt tương ứng với phần tiếng Anh mà ta đang viết ra.\n",
    "* Cơ chế attention cho mô hình Dịch máy thần kinh biết nơi nó cần chú ý đến để dịch một đoạn có ý nghĩa.\n",
    "\n",
    "\n",
    "### 2.1 - Attention mechanism\n",
    "\n",
    "Trong phần này, ta sẽ thực hiện cơ chế attention:\n",
    "* 2 Biểu đồ dưới đây sẽ giải thích cho model attention trong dịch máy.\n",
    "    * Biểu đồ bên trái cho thấy mô hình attention.\n",
    "    * Biểu đồ bên phải cho thấy một bước \"attention\" thực hiện để tính toán các biến attention $\\alpha^{\\langle t, t' \\rangle}$.\n",
    "    * Các biến attention $\\alpha^{\\langle t, t' \\rangle}$ được sử dụng để tính toán biến context $context^{\\langle t \\rangle}$ cho mỗi bước thời gian trong đầu ra ($t=1, \\ldots, T_y$). \n",
    "\n",
    "<table>\n",
    "<td> \n",
    "<img src=\"images/attn_model.png\" style=\"width:500;height:500px;\"> <br>\n",
    "</td> \n",
    "<td> \n",
    "<img src=\"images/attn_mechanism.png\" style=\"width:500;height:500px;\"> <br>\n",
    "</td> \n",
    "</table>\n"
   ]
  },
  {
   "cell_type": "markdown",
   "metadata": {},
   "source": [
    "Dưới đây là một số thuộc tính của mô hình mà ta thấy trong biểu đồ trên:\n",
    "\n",
    "#### Pre-attention và Post-attention LSTMs \n",
    "- Có hai LSTM riêng biệt trong mô hình này: pre-attention and post-attention LSTMs.\n",
    "- *Pre-attention* Bi-LSTM là một LSTM hai hướng được tính toán trước khi thực hiện cơ chế attention\n",
    "    - Cơ chế attention được hiển thị ở giữa sơ đồ bên trái.\n",
    "    - The pre-attention Bi-LSTM trải qua $T_x$ time steps\n",
    "- *Post-attention* LSTM: ở đầu sơ đồ được tính toán sau khi thực hiện xong cơ chế attention.\n",
    "    - post-attention LSTM trải qua  $T_y$ time steps. \n",
    "\n",
    "- Post-attention LSTM có các hidden state $s^{\\langle t \\rangle}$ và cell state $c^{\\langle t \\rangle}$ từ bước này đến bước tiếp theo."
   ]
  },
  {
   "cell_type": "markdown",
   "metadata": {},
   "source": [
    "#### Mỗi time step không sử dụng dự đoán từ time step  trước đó\n",
    "* Trong mô hình này, post-attention LSTM tại thời điểm $t$ không thực hiện dự đoán của bước thời gian trước đó $y^{\\langle t-1 \\rangle}$ như input\n",
    "* post-attention LSTM tại thời điểm 't' chỉ có hidden state $s^{\\langle t\\rangle}$ và cell state $c^{\\langle t\\rangle}$ như là input.\n",
    "* Thiết kế mô hình theo cách này bởi vì không giống như dịch ngôn ngữ (trong đó các ký tự liền kề có tương quan cao), ở đây không có sự phụ thuộc mạnh mẽ giữa ký tự trước và ký tự tiếp theo trong ngày YYYY-MM-DD."
   ]
  },
  {
   "cell_type": "markdown",
   "metadata": {},
   "source": [
    "#### Tính toán \"energies\" $e^{\\langle t, t' \\rangle}$ như là một hàm của $s^{\\langle t-1 \\rangle}$ và $a^{\\langle t' \\rangle}$\n",
    "\n",
    "   - \"e\" dduocj gọi là \"energies\" variable.\n",
    "   - $s^{\\langle t-1 \\rangle}$ là hidden state của post-attention LSTM\n",
    "   - $a^{\\langle t' \\rangle}$ là hidden state của pre-attention LSTM.\n",
    "   - $s^{\\langle t-1 \\rangle}$ and $a^{\\langle t \\rangle}$ được đưa vào một mạng nơ-ron đơn giản, mạng này học hàm để xuất ra $e^{\\langle t, t' \\rangle}$.\n",
    "   - $e^{\\langle t, t' \\rangle}$ sau đó được sử dụng khi tính toán attention $a^{\\langle t, t' \\rangle}$ mà $y^{\\langle t \\rangle}$ nên tri trả cho $a^{\\langle t' \\rangle}$."
   ]
  },
  {
   "cell_type": "markdown",
   "metadata": {},
   "source": [
    "- Biểu đồ bên phải sử dụng một layer `RepeatVector` để copy giá trị $s^{\\langle t-1 \\rangle}$ $T_x$ lần.\n",
    "- Sau đô nó sử dụng layer `Concatenation` để concatenate $s^{\\langle t-1 \\rangle}$ và $a^{\\langle t \\rangle}$.\n",
    "- Sự kết hợp của $s^{\\langle t-1 \\rangle}$ và $a^{\\langle t \\rangle}$ được đưa vào một lớp \"Dense\", lớp này sẽ tính toán $e^{\\langle t, t' \\rangle}$. \n",
    "- $e^{\\langle t, t' \\rangle}$ sau đó được chuyển qua activation softmax để tính toán $\\alpha^{\\langle t, t' \\rangle}$.\n",
    "- Lưu ý rằng sơ đồ không hiển thị rõ ràng biến $e^{\\langle t, t' \\rangle}$, nhưng $e^{\\langle t, t' \\rangle}$ nằm trên lớp Dense và bên dưới lớp Softmax trong biểu đồ bên phải \n",
    "- Chúng ta sẽ sử dụng`RepeatVector` and `Concatenation` trong thư viện Keras."
   ]
  },
  {
   "cell_type": "markdown",
   "metadata": {},
   "source": [
    "### Chi tiết triển khai\n",
    "   \n",
    "#### one_step_attention\n",
    "* Các đầu vào cho bước one_step_attention tại thời điểm $t$ là:\n",
    "    - $[a^{<1>},a^{<2>}, ..., a^{<T_x>}]$: tất cả hidden states của pre-attention Bi-LSTM.\n",
    "    - $s^{<t-1>}$: hidden state của time step trước của post-attention LSTM \n",
    "* one_step_attention tính toán:\n",
    "    - $[\\alpha^{<t,1>},\\alpha^{<t,2>}, ..., \\alpha^{<t,T_x>}]$: trọng số attention\n",
    "    - $context^{ \\langle t \\rangle }$: vector context.\n",
    "    \n",
    "$$context^{<t>} = \\sum_{t' = 1}^{T_x} \\alpha^{<t,t'>}a^{<t'>}\\tag{1}$$ "
   ]
  },
  {
   "cell_type": "code",
   "execution_count": 11,
   "metadata": {
    "collapsed": true
   },
   "outputs": [],
   "source": [
    "# Các lớp chia sẻ được xác định dưới dạng biến toàn cục\n",
    "repeator = RepeatVector(Tx)\n",
    "concatenator = Concatenate(axis=-1)\n",
    "densor1 = Dense(10, activation = \"tanh\")\n",
    "densor2 = Dense(1, activation = \"relu\")\n",
    "activator = Activation(softmax, name='attention_weights')\n",
    "dotor = Dot(axes = 1)"
   ]
  },
  {
   "cell_type": "code",
   "execution_count": 12,
   "metadata": {
    "collapsed": true
   },
   "outputs": [],
   "source": [
    "def one_step_attention(a, s_prev):\n",
    "    \"\"\"\n",
    "    Thực hiện một bước chú ý: Xuất ra một vectơ ngữ cảnh được tính dưới dạng dot product của trọng số chú ý\n",
    "    \"alphas\" and the hidden states \"a\" of the Bi-LSTM.\n",
    "    \n",
    "    Arguments:\n",
    "    a -- đầu ra trạng thái ẩn của Bi-LSTM, mảng hình dạng numpy (m, Tx, 2*n_a)\n",
    "    s_prev -- trạng thái ẩn trước đó của LSTM (post-attention), mảng hình dạng (m, n_s)\n",
    "    \n",
    "    Returns:\n",
    "    context -- context vector, đầu vào tiêp theo của (post-attention) LSTM cell\n",
    "    \"\"\"\n",
    "    \n",
    "    # Sử dụng bộ lặp để lặp lại s_prev có hình dạng (m, Tx, n_s) để bạn có thể nối nó với tất cả các trạng thái ẩn \"a\"\n",
    "    s_prev = repeator(s_prev)\n",
    "    # Sử dụng bộ nối để nối a và s_prev trên trục cuối cùng \n",
    "    concat = concatenator([a,s_prev])\n",
    "    # Sử dụng densor1 để truyền concat thông qua một mạng nơron nhỏ được kết nối đầy đủ để tính biến \"năng lượng trung gian\" e.\n",
    "    e = densor1(concat)\n",
    "    # Sử dụng densor2 để truyền e thông qua một mạng nơron nhỏ được kết nối đầy đủ để tính toán các năng lượng biến đổi \"năng lượng\".\n",
    "    energies = densor2(e)\n",
    "    # Use \"activator\" on \"energies\" để tính toán trọng số chú ý \"alphas\"\n",
    "    alphas = activator(energies)\n",
    "    # Sử dụng dotor cùng với \"alphas\" và \"a\" để tính toán vector ngữ cảnh sẽ được cấp cho LSTM-ô tiếp theo\n",
    "    context = dotor([alphas,a])\n",
    "    \n",
    "    return context"
   ]
  },
  {
   "cell_type": "markdown",
   "metadata": {},
   "source": [
    "#### model\n",
    "* `model` đầu tiên đưa đầu vào thông qua Bi-LSTM để có được $[a^{<1>},a^{<2>}, ..., a^{<T_x>}]$. \n",
    "* Sau đó, `model` gọi `one_step_attention()` $T_y$ lần sử dụng `for` loop.  Tại mỗi lần lặp:\n",
    "    - Đưa vector context $context^{<t>}$ đến đầu vào của post-attention LSTM.\n",
    "    - Nó đưa ra output của post-attention LSTM  thông qua một lớp Dense với kích hoạt softmax.\n",
    "    - Softmax tạo ra một dự đoán $\\hat{y}^{<t>}$. "
   ]
  },
  {
   "cell_type": "code",
   "execution_count": 13,
   "metadata": {
    "collapsed": true
   },
   "outputs": [],
   "source": [
    "n_a = 32 \n",
    "n_s = 64\n",
    "  \n",
    "post_activation_LSTM_cell = LSTM(n_s, return_state = True) # post-attention LSTM \n",
    "output_layer = Dense(len(machine_vocab), activation=softmax)"
   ]
  },
  {
   "cell_type": "markdown",
   "metadata": {},
   "source": [
    "Bây giờ bạn có thể sử dụng các lớp này $ T_y $ lần trong một `for` loop để tạo đầu ra . ta sẽ thực hiện toàn bộ model như sau :"
   ]
  },
  {
   "cell_type": "code",
   "execution_count": 15,
   "metadata": {
    "collapsed": true
   },
   "outputs": [],
   "source": [
    "def model(Tx, Ty, n_a, n_s, human_vocab_size, machine_vocab_size):\n",
    "    \"\"\"\n",
    "    Arguments:\n",
    "    Tx -- Độ dài chuỗi đầu vào\n",
    "    Ty -- Độ dài chuỗi đầu ra\n",
    "    n_a -- Kích thước trạng thái ẩn của Bi-LSTM\n",
    "    n_s -- Kích thước trạng thái ẩn của post-attention LSTM\n",
    "    human_vocab_size -- Kích thước dict \"human_vocab\"\n",
    "    machine_vocab_size -- Kích thước dict \"machine_vocab\"\n",
    "\n",
    "    Returns:\n",
    "    model -- Keras model\n",
    "    \"\"\"\n",
    "    \n",
    "    # Xác định các đầu vào của mô hình\n",
    "   \n",
    "    X = Input(shape=(Tx, human_vocab_size))\n",
    "    s0 = Input(shape=(n_s,), name='s0')\n",
    "    c0 = Input(shape=(n_s,), name='c0')\n",
    "    s = s0\n",
    "    c = c0\n",
    "    outputs = []\n",
    "    \n",
    "    # Define your pre-attention Bi-LSTM. (≈ 1 line)\n",
    "    a = Bidirectional(LSTM(n_a, return_sequences=True))(X)          \n",
    "    \n",
    "    # Lặp cho Ty steps\n",
    "    for t in range(Ty):\n",
    "    \n",
    "        # Thực hiện một bước của cơ chế chú ý để lấy lại vectơ ngữ cảnh ở bước t\n",
    "        context = one_step_attention(a, s)\n",
    "        \n",
    "        # Áp dụng post-attention LSTM cell cho vector \"context\".\n",
    "        # initial_state = [hidden state, cell state]\n",
    "        s, _, c = post_activation_LSTM_cell(context, initial_state=[s,c])\n",
    "        \n",
    "        # Áp dụng Dense layer cho hidden state output của post-attention LSTM\n",
    "        out = output_layer(s)\n",
    "        \n",
    "        # Append \"out\" vào \"outputs\" list\n",
    "        outputs.append( out )\n",
    "    \n",
    "    # reate model\n",
    "    model = Model(inputs=[X,s0,c0], outputs=outputs)\n",
    "    \n",
    "    return model"
   ]
  },
  {
   "cell_type": "code",
   "execution_count": 16,
   "metadata": {
    "collapsed": true
   },
   "outputs": [],
   "source": [
    "model = model(Tx, Ty, n_a, n_s, len(human_vocab), len(machine_vocab))"
   ]
  },
  {
   "cell_type": "code",
   "execution_count": 17,
   "metadata": {},
   "outputs": [
    {
     "name": "stdout",
     "output_type": "stream",
     "text": [
      "____________________________________________________________________________________________________\n",
      "Layer (type)                     Output Shape          Param #     Connected to                     \n",
      "====================================================================================================\n",
      "input_1 (InputLayer)             (None, 30, 37)        0                                            \n",
      "____________________________________________________________________________________________________\n",
      "s0 (InputLayer)                  (None, 64)            0                                            \n",
      "____________________________________________________________________________________________________\n",
      "bidirectional_1 (Bidirectional)  (None, 30, 64)        17920       input_1[0][0]                    \n",
      "____________________________________________________________________________________________________\n",
      "repeat_vector_1 (RepeatVector)   (None, 30, 64)        0           s0[0][0]                         \n",
      "                                                                   lstm_1[0][0]                     \n",
      "                                                                   lstm_1[1][0]                     \n",
      "                                                                   lstm_1[2][0]                     \n",
      "                                                                   lstm_1[3][0]                     \n",
      "                                                                   lstm_1[4][0]                     \n",
      "                                                                   lstm_1[5][0]                     \n",
      "                                                                   lstm_1[6][0]                     \n",
      "                                                                   lstm_1[7][0]                     \n",
      "                                                                   lstm_1[8][0]                     \n",
      "____________________________________________________________________________________________________\n",
      "concatenate_1 (Concatenate)      (None, 30, 128)       0           bidirectional_1[0][0]            \n",
      "                                                                   repeat_vector_1[0][0]            \n",
      "                                                                   bidirectional_1[0][0]            \n",
      "                                                                   repeat_vector_1[1][0]            \n",
      "                                                                   bidirectional_1[0][0]            \n",
      "                                                                   repeat_vector_1[2][0]            \n",
      "                                                                   bidirectional_1[0][0]            \n",
      "                                                                   repeat_vector_1[3][0]            \n",
      "                                                                   bidirectional_1[0][0]            \n",
      "                                                                   repeat_vector_1[4][0]            \n",
      "                                                                   bidirectional_1[0][0]            \n",
      "                                                                   repeat_vector_1[5][0]            \n",
      "                                                                   bidirectional_1[0][0]            \n",
      "                                                                   repeat_vector_1[6][0]            \n",
      "                                                                   bidirectional_1[0][0]            \n",
      "                                                                   repeat_vector_1[7][0]            \n",
      "                                                                   bidirectional_1[0][0]            \n",
      "                                                                   repeat_vector_1[8][0]            \n",
      "                                                                   bidirectional_1[0][0]            \n",
      "                                                                   repeat_vector_1[9][0]            \n",
      "____________________________________________________________________________________________________\n",
      "dense_1 (Dense)                  (None, 30, 10)        1290        concatenate_1[0][0]              \n",
      "                                                                   concatenate_1[1][0]              \n",
      "                                                                   concatenate_1[2][0]              \n",
      "                                                                   concatenate_1[3][0]              \n",
      "                                                                   concatenate_1[4][0]              \n",
      "                                                                   concatenate_1[5][0]              \n",
      "                                                                   concatenate_1[6][0]              \n",
      "                                                                   concatenate_1[7][0]              \n",
      "                                                                   concatenate_1[8][0]              \n",
      "                                                                   concatenate_1[9][0]              \n",
      "____________________________________________________________________________________________________\n",
      "dense_2 (Dense)                  (None, 30, 1)         11          dense_1[0][0]                    \n",
      "                                                                   dense_1[1][0]                    \n",
      "                                                                   dense_1[2][0]                    \n",
      "                                                                   dense_1[3][0]                    \n",
      "                                                                   dense_1[4][0]                    \n",
      "                                                                   dense_1[5][0]                    \n",
      "                                                                   dense_1[6][0]                    \n",
      "                                                                   dense_1[7][0]                    \n",
      "                                                                   dense_1[8][0]                    \n",
      "                                                                   dense_1[9][0]                    \n",
      "____________________________________________________________________________________________________\n",
      "attention_weights (Activation)   (None, 30, 1)         0           dense_2[0][0]                    \n",
      "                                                                   dense_2[1][0]                    \n",
      "                                                                   dense_2[2][0]                    \n",
      "                                                                   dense_2[3][0]                    \n",
      "                                                                   dense_2[4][0]                    \n",
      "                                                                   dense_2[5][0]                    \n",
      "                                                                   dense_2[6][0]                    \n",
      "                                                                   dense_2[7][0]                    \n",
      "                                                                   dense_2[8][0]                    \n",
      "                                                                   dense_2[9][0]                    \n",
      "____________________________________________________________________________________________________\n",
      "dot_1 (Dot)                      (None, 1, 64)         0           attention_weights[0][0]          \n",
      "                                                                   bidirectional_1[0][0]            \n",
      "                                                                   attention_weights[1][0]          \n",
      "                                                                   bidirectional_1[0][0]            \n",
      "                                                                   attention_weights[2][0]          \n",
      "                                                                   bidirectional_1[0][0]            \n",
      "                                                                   attention_weights[3][0]          \n",
      "                                                                   bidirectional_1[0][0]            \n",
      "                                                                   attention_weights[4][0]          \n",
      "                                                                   bidirectional_1[0][0]            \n",
      "                                                                   attention_weights[5][0]          \n",
      "                                                                   bidirectional_1[0][0]            \n",
      "                                                                   attention_weights[6][0]          \n",
      "                                                                   bidirectional_1[0][0]            \n",
      "                                                                   attention_weights[7][0]          \n",
      "                                                                   bidirectional_1[0][0]            \n",
      "                                                                   attention_weights[8][0]          \n",
      "                                                                   bidirectional_1[0][0]            \n",
      "                                                                   attention_weights[9][0]          \n",
      "                                                                   bidirectional_1[0][0]            \n",
      "____________________________________________________________________________________________________\n",
      "c0 (InputLayer)                  (None, 64)            0                                            \n",
      "____________________________________________________________________________________________________\n",
      "lstm_1 (LSTM)                    [(None, 64), (None, 6 33024       dot_1[0][0]                      \n",
      "                                                                   s0[0][0]                         \n",
      "                                                                   c0[0][0]                         \n",
      "                                                                   dot_1[1][0]                      \n",
      "                                                                   lstm_1[0][0]                     \n",
      "                                                                   lstm_1[0][2]                     \n",
      "                                                                   dot_1[2][0]                      \n",
      "                                                                   lstm_1[1][0]                     \n",
      "                                                                   lstm_1[1][2]                     \n",
      "                                                                   dot_1[3][0]                      \n",
      "                                                                   lstm_1[2][0]                     \n",
      "                                                                   lstm_1[2][2]                     \n",
      "                                                                   dot_1[4][0]                      \n",
      "                                                                   lstm_1[3][0]                     \n",
      "                                                                   lstm_1[3][2]                     \n",
      "                                                                   dot_1[5][0]                      \n",
      "                                                                   lstm_1[4][0]                     \n",
      "                                                                   lstm_1[4][2]                     \n",
      "                                                                   dot_1[6][0]                      \n",
      "                                                                   lstm_1[5][0]                     \n",
      "                                                                   lstm_1[5][2]                     \n",
      "                                                                   dot_1[7][0]                      \n",
      "                                                                   lstm_1[6][0]                     \n",
      "                                                                   lstm_1[6][2]                     \n",
      "                                                                   dot_1[8][0]                      \n",
      "                                                                   lstm_1[7][0]                     \n",
      "                                                                   lstm_1[7][2]                     \n",
      "                                                                   dot_1[9][0]                      \n",
      "                                                                   lstm_1[8][0]                     \n",
      "                                                                   lstm_1[8][2]                     \n",
      "____________________________________________________________________________________________________\n",
      "dense_3 (Dense)                  (None, 11)            715         lstm_1[0][0]                     \n",
      "                                                                   lstm_1[1][0]                     \n",
      "                                                                   lstm_1[2][0]                     \n",
      "                                                                   lstm_1[3][0]                     \n",
      "                                                                   lstm_1[4][0]                     \n",
      "                                                                   lstm_1[5][0]                     \n",
      "                                                                   lstm_1[6][0]                     \n",
      "                                                                   lstm_1[7][0]                     \n",
      "                                                                   lstm_1[8][0]                     \n",
      "                                                                   lstm_1[9][0]                     \n",
      "====================================================================================================\n",
      "Total params: 52,960\n",
      "Trainable params: 52,960\n",
      "Non-trainable params: 0\n",
      "____________________________________________________________________________________________________\n"
     ]
    }
   ],
   "source": [
    "model.summary()"
   ]
  },
  {
   "cell_type": "markdown",
   "metadata": {},
   "source": [
    "#### Compile  model\n",
    "* Sau khi tạo mô hình của bạn trong Keras, ta cần phải compile nó và xác định hàm mất mát, trình tối ưu hóa và metrics ta muốn sử dụng.\n",
    "    * Loss function: 'categorical_crossentropy'.\n",
    "    * Optimizer: Adam optimizer\n",
    "        - learning rate = 0.005 \n",
    "        - $\\beta_1 = 0.9$\n",
    "        - $\\beta_2 = 0.999$\n",
    "        - decay = 0.01  \n",
    "    * metric: 'accuracy'"
   ]
  },
  {
   "cell_type": "code",
   "execution_count": 18,
   "metadata": {
    "collapsed": true
   },
   "outputs": [],
   "source": [
    "opt = Adam()\n",
    "model.compile(optimizer=opt, loss=\"categorical_crossentropy\", metrics=[\"accuracy\"])"
   ]
  },
  {
   "cell_type": "markdown",
   "metadata": {},
   "source": [
    "#### Xác định  inputs và outputs, sau đó fit  model\n",
    "Bước cuối cùng là xác định tất cả các đầu vào và đầu ra để fit với mô hình:\n",
    "- Ta có input X có shape $(m = 10000, T_x = 30)$ chứa các ví dụ đào tạo.\n",
    "- Ta cấn khởi tạo `s0` and `c0` cho `post_attention_LSTM_cell` với vector zeros.\n",
    "- Ta cần \"outputs\" là danh sách 10 thành phần có shape (m, T_y). "
   ]
  },
  {
   "cell_type": "code",
   "execution_count": 19,
   "metadata": {
    "collapsed": true
   },
   "outputs": [],
   "source": [
    "s0 = np.zeros((m, n_s))\n",
    "c0 = np.zeros((m, n_s))\n",
    "outputs = list(Yoh.swapaxes(0,1))"
   ]
  },
  {
   "cell_type": "code",
   "execution_count": 20,
   "metadata": {},
   "outputs": [
    {
     "name": "stdout",
     "output_type": "stream",
     "text": [
      "Epoch 1/3\n",
      "10000/10000 [==============================] - 56s - loss: 20.7023 - dense_3_loss_1: 2.0155 - dense_3_loss_2: 1.7000 - dense_3_loss_3: 2.1805 - dense_3_loss_4: 2.7762 - dense_3_loss_5: 1.3698 - dense_3_loss_6: 1.7559 - dense_3_loss_7: 2.7467 - dense_3_loss_8: 1.4025 - dense_3_loss_9: 1.9677 - dense_3_loss_10: 2.7874 - dense_3_acc_1: 0.1303 - dense_3_acc_2: 0.4044 - dense_3_acc_3: 0.1627 - dense_3_acc_4: 0.0637 - dense_3_acc_5: 0.9582 - dense_3_acc_6: 0.0114 - dense_3_acc_7: 8.0000e-04 - dense_3_acc_8: 0.9815 - dense_3_acc_9: 0.0412 - dense_3_acc_10: 0.0341    \n",
      "Epoch 2/3\n",
      "10000/10000 [==============================] - 54s - loss: 14.0957 - dense_3_loss_1: 0.6956 - dense_3_loss_2: 0.6052 - dense_3_loss_3: 1.5256 - dense_3_loss_4: 2.5515 - dense_3_loss_5: 0.3761 - dense_3_loss_6: 0.9698 - dense_3_loss_7: 2.7707 - dense_3_loss_8: 0.5969 - dense_3_loss_9: 1.6013 - dense_3_loss_10: 2.4031 - dense_3_acc_1: 0.7566 - dense_3_acc_2: 0.8419 - dense_3_acc_3: 0.3727 - dense_3_acc_4: 0.1086 - dense_3_acc_5: 1.0000 - dense_3_acc_6: 0.5271 - dense_3_acc_7: 0.0661 - dense_3_acc_8: 0.9999 - dense_3_acc_9: 0.3324 - dense_3_acc_10: 0.1312    \n",
      "Epoch 3/3\n",
      "10000/10000 [==============================] - 54s - loss: 9.7353 - dense_3_loss_1: 0.2788 - dense_3_loss_2: 0.1848 - dense_3_loss_3: 1.1496 - dense_3_loss_4: 2.2850 - dense_3_loss_5: 0.0268 - dense_3_loss_6: 0.2767 - dense_3_loss_7: 1.9992 - dense_3_loss_8: 0.0247 - dense_3_loss_9: 1.2569 - dense_3_loss_10: 2.2527 - dense_3_acc_1: 0.9508 - dense_3_acc_2: 0.9512 - dense_3_acc_3: 0.4727 - dense_3_acc_4: 0.1578 - dense_3_acc_5: 1.0000 - dense_3_acc_6: 0.9277 - dense_3_acc_7: 0.2742 - dense_3_acc_8: 1.0000 - dense_3_acc_9: 0.3851 - dense_3_acc_10: 0.1563    \n"
     ]
    },
    {
     "data": {
      "text/plain": [
       "<keras.callbacks.History at 0x7fb33f6c0ef0>"
      ]
     },
     "execution_count": 20,
     "metadata": {},
     "output_type": "execute_result"
    }
   ],
   "source": [
    "model.fit([Xoh, s0, c0], outputs, epochs=3, batch_size=100)"
   ]
  },
  {
   "cell_type": "markdown",
   "metadata": {},
   "source": [
    "Để tiết kiệm thời gian cũng như chi phí tính toán ta sẽ chạy model trong 3 epoch để cho thấy cách model đang hoạt động cũng như các loss đang reduce. Mã sau đây tải trọng số đã được đào tạo trước."
   ]
  },
  {
   "cell_type": "code",
   "execution_count": 21,
   "metadata": {
    "collapsed": true
   },
   "outputs": [],
   "source": [
    "model.load_weights('models/model.h5')"
   ]
  },
  {
   "cell_type": "markdown",
   "metadata": {},
   "source": [
    "Sau khi đã load thành công. Bây giờ ta có thể test kết quả trên các ví dụ mới."
   ]
  },
  {
   "cell_type": "code",
   "execution_count": 22,
   "metadata": {},
   "outputs": [
    {
     "name": "stdout",
     "output_type": "stream",
     "text": [
      "source: 3 May 1979\n",
      "output: 1979-05-03 \n",
      "\n",
      "source: 5 April 09\n",
      "output: 2009-05-05 \n",
      "\n",
      "source: 21th of August 2016\n",
      "output: 2016-08-21 \n",
      "\n",
      "source: Tue 10 Jul 2007\n",
      "output: 2007-07-10 \n",
      "\n",
      "source: Saturday May 9 2018\n",
      "output: 2018-05-09 \n",
      "\n",
      "source: March 3 2001\n",
      "output: 2001-03-03 \n",
      "\n",
      "source: March 3rd 2001\n",
      "output: 2001-03-03 \n",
      "\n",
      "source: 1 March 2001\n",
      "output: 2001-03-01 \n",
      "\n",
      "source: monday april 30 1973\n",
      "output: 1973-04-30 \n",
      "\n",
      "source: 11/13/92\n",
      "output: 1992-11-13 \n",
      "\n",
      "source: 31 03 71\n",
      "output: 1971-03-31 \n",
      "\n"
     ]
    }
   ],
   "source": [
    "EXAMPLES = ['3 May 1979', '5 April 09', '21th of August 2016', 'Tue 10 Jul 2007', \n",
    "            'Saturday May 9 2018', 'March 3 2001', 'March 3rd 2001', '1 March 2001',\n",
    "            'monday april 30 1973','11/13/92','31 03 71']\n",
    "\n",
    "for example in EXAMPLES:\n",
    "    \n",
    "    source = string_to_int(example, Tx, human_vocab)\n",
    "    source = np.array(list(map(lambda x: to_categorical(x, num_classes=len(human_vocab)), source))).swapaxes(0,1)\n",
    "    prediction = model.predict([source, s0, c0])\n",
    "    prediction = np.argmax(prediction, axis = -1)\n",
    "    output = [inv_machine_vocab[int(i)] for i in prediction]\n",
    "    \n",
    "    print(\"source:\", example)\n",
    "    print(\"output:\", ''.join(output),\"\\n\")"
   ]
  },
  {
   "cell_type": "markdown",
   "metadata": {},
   "source": [
    "## 3 - Visualizing Attention\n",
    "\n",
    "Vì bài toán có độ dài đầu ra cố định là 10, nên cũng có thể thực hiện bài toán này bằng cách sử dụng 10 đơn vị softmax khác nhau để tạo ra 10 ký tự của đầu ra. Một ưu điểm của mô hình attention là mỗi phần của đầu ra (chẳng hạn như tháng) cho biết rằng nó chỉ cần phụ thuộc vào một phần nhỏ của đầu vào (các ký tự trong đầu vào cho biết tháng). Chúng ta có thể hình dung từng phần của đầu ra đang chú ý đến phần nào của đầu vào."
   ]
  },
  {
   "cell_type": "markdown",
   "metadata": {},
   "source": [
    "###  Lấy attention weights và trực quan hóa kết quả\n",
    "\n",
    "Bây giờ hãy hình dung các giá trị attention trong model. Ta sẽ trực quan hóa các giá trị của $\\alpha^{\\langle t, t' \\rangle}$."
   ]
  },
  {
   "cell_type": "code",
   "execution_count": 24,
   "metadata": {
    "scrolled": false
   },
   "outputs": [
    {
     "data": {
      "text/plain": [
       "<matplotlib.figure.Figure at 0x7fb337457e10>"
      ]
     },
     "metadata": {},
     "output_type": "display_data"
    },
    {
     "data": {
      "image/png": "[encoded data removed]",
      "text/plain": [
       "<matplotlib.figure.Figure at 0x7fb3374a1e10>"
      ]
     },
     "metadata": {},
     "output_type": "display_data"
    }
   ],
   "source": [
    "attention_map = plot_attention_map(model, human_vocab, inv_machine_vocab, \"Saturday May 9 2018\", num = 7, n_s = 64)"
   ]
  },
  {
   "cell_type": "code",
   "execution_count": 25,
   "metadata": {},
   "outputs": [
    {
     "data": {
      "text/plain": [
       "<matplotlib.figure.Figure at 0x7fb31c7a5e10>"
      ]
     },
     "metadata": {},
     "output_type": "display_data"
    },
    {
     "data": {
      "image/png": "[encoded data removed]",
      "text/plain": [
       "<matplotlib.figure.Figure at 0x7fb31c6ba0b8>"
      ]
     },
     "metadata": {},
     "output_type": "display_data"
    }
   ],
   "source": [
    "attention_map = plot_attention_map(model, human_vocab, inv_machine_vocab, \"31 03 71\", num = 7, n_s = 64)"
   ]
  },
  {
   "cell_type": "code",
   "execution_count": 26,
   "metadata": {},
   "outputs": [
    {
     "data": {
      "text/plain": [
       "<matplotlib.figure.Figure at 0x7fb2fc76c198>"
      ]
     },
     "metadata": {},
     "output_type": "display_data"
    },
    {
     "data": {
      "image/png": "[encoded data removed]",
      "text/plain": [
       "<matplotlib.figure.Figure at 0x7fb31c6e3a58>"
      ]
     },
     "metadata": {},
     "output_type": "display_data"
    }
   ],
   "source": [
    "attention_map = plot_attention_map(model, human_vocab, inv_machine_vocab, \"Tue 10 Jul 2007\", num = 7, n_s = 64)"
   ]
  },
  {
   "cell_type": "markdown",
   "metadata": {},
   "source": [
    "Trên biểu đồ đã tạo, ta có thể quan sát các giá trị của trọng số attention cho mỗi ký tự của kết quả dự đoán."
   ]
  },
  {
   "cell_type": "markdown",
   "metadata": {},
   "source": [
    "## Tổng kết\n",
    "\n",
    "- Các mô hình dịch máy có thể được sử dụng để ánh xạ từ chuỗi này sang chuỗi khác. Chúng hữu ích không chỉ để dịch ngôn ngữ của con người (như tiếng Việt-> tiếng Anh) mà còn cho các tác vụ như dịch định dạng ngày tháng.\n",
    "- Cơ chế attention cho phép mạng tập trung vào các phần có liên quan nhất của đầu vào khi xuất một phần cụ thể của đầu ra.\n",
    "- Mạng sử dụng cơ chế attention có thể dịch từ các đầu vào có độ dài $T_x$ đến đầu ra có độ dài $T_y$, nơi mà $T_x$ và $T_y$ có thể khác nhau.\n",
    "- Ta có thể hình dung trọng số attention $\\alpha^{\\langle t,t' \\rangle}$ để xem mạng đang attention đến điều gì trong khi tạo từng đầu ra."
   ]
  },
  {
   "cell_type": "code",
   "execution_count": null,
   "metadata": {
    "collapsed": true
   },
   "outputs": [],
   "source": []
  }
 ],
 "metadata": {
  "coursera": {
   "course_slug": "nlp-sequence-models",
   "graded_item_id": "n16CQ",
   "launcher_item_id": "npjGi"
  },
  "kernelspec": {
   "display_name": "Python 3",
   "language": "python",
   "name": "python3"
  },
  "language_info": {
   "codemirror_mode": {
    "name": "ipython",
    "version": 3
   },
   "file_extension": ".py",
   "mimetype": "text/x-python",
   "name": "python",
   "nbconvert_exporter": "python",
   "pygments_lexer": "ipython3",
   "version": "3.7.6"
  }
 },
 "nbformat": 4,
 "nbformat_minor": 2
}
